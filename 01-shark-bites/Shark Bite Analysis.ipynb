{
 "cells": [
  {
   "cell_type": "markdown",
   "metadata": {},
   "source": [
    "# Shark Bite Analysis\n",
    "\n",
    "Using date from [Australian Shark-Incident Database](https://github.com/cjabradshaw/AustralianSharkIncidentDatabase) to analyze shark bite data.\n",
    "\n",
    "## Questions\n",
    "\n",
    "**Questions for `activityData-cleaned.csv`**\n",
    "\n",
    "1. How many shark bites are there in the data set?\n",
    "2. What percentage of those bites were fatal?\n",
    "3. What are the different options for `Activity`?\n",
    "4. How many bites were there for each `Activity`?\n",
    "5. What percentage of bites were fatal for each `Activity`?\n",
    "6. Are provoked or unprovoked bites more likely to be fatal?\n",
    "7. What was the earliest year in the data set?\n",
    "8. What was the latest year in the data set?\n",
    "9. How many years of data are there?\n",
    "10. Graph the number of bites per year.\n",
    "11. Graph the number of data bites for each year.\n",
    "\n",
    "**Questions for `injurydat-cleaned.csv`**\n",
    "\n",
    "1. How many shark bites are there in the data set?\n",
    "2. What shark species was involved in the most bites?\n",
    "3. What shark species was involved in the most fatal bites?\n",
    "4. Were more women or men involved in shark attacks?\n",
    "5. What is the average length of sharks involved in bites?\n",
    "6. What is the average length of a shark involved in non-fatal bites as compared to that of fatal bites?\n",
    "7. What is the average length of a shark involved in bites that were provoked as compared to that of bites that were unprovoked?\n",
    "8. Are the types of sharks involves in swimming and surfing bites different than those involved in diving bites?\n",
    "9. Are the types of sharks involved in fatal bites different than those involved in non-fatal bites?"
   ]
  },
  {
   "cell_type": "code",
   "execution_count": 4,
   "metadata": {},
   "outputs": [],
   "source": [
    "import requests\n",
    "import pandas as pd"
   ]
  },
  {
   "cell_type": "markdown",
   "metadata": {},
   "source": []
  },
  {
   "cell_type": "code",
   "execution_count": 5,
   "metadata": {},
   "outputs": [
    {
     "data": {
      "text/html": [
       "<div>\n",
       "<style scoped>\n",
       "    .dataframe tbody tr th:only-of-type {\n",
       "        vertical-align: middle;\n",
       "    }\n",
       "\n",
       "    .dataframe tbody tr th {\n",
       "        vertical-align: top;\n",
       "    }\n",
       "\n",
       "    .dataframe thead th {\n",
       "        text-align: right;\n",
       "    }\n",
       "</style>\n",
       "<table border=\"1\" class=\"dataframe\">\n",
       "  <thead>\n",
       "    <tr style=\"text-align: right;\">\n",
       "      <th></th>\n",
       "      <th>incident_year</th>\n",
       "      <th>recovery_status</th>\n",
       "      <th>provoked_unprovoked</th>\n",
       "      <th>victim_activity</th>\n",
       "    </tr>\n",
       "  </thead>\n",
       "  <tbody>\n",
       "    <tr>\n",
       "      <th>267</th>\n",
       "      <td>1929.0</td>\n",
       "      <td>injured</td>\n",
       "      <td>provoked</td>\n",
       "      <td>snorkelling</td>\n",
       "    </tr>\n",
       "    <tr>\n",
       "      <th>490</th>\n",
       "      <td>1959.0</td>\n",
       "      <td>uninjured</td>\n",
       "      <td>provoked</td>\n",
       "      <td>spearfishing</td>\n",
       "    </tr>\n",
       "    <tr>\n",
       "      <th>791</th>\n",
       "      <td>2004.0</td>\n",
       "      <td>injured</td>\n",
       "      <td>provoked</td>\n",
       "      <td>spearfishing</td>\n",
       "    </tr>\n",
       "    <tr>\n",
       "      <th>1158</th>\n",
       "      <td>2020.0</td>\n",
       "      <td>fatal</td>\n",
       "      <td>unprovoked</td>\n",
       "      <td>boarding</td>\n",
       "    </tr>\n",
       "    <tr>\n",
       "      <th>667</th>\n",
       "      <td>1992.0</td>\n",
       "      <td>uninjured</td>\n",
       "      <td>provoked</td>\n",
       "      <td>NaN</td>\n",
       "    </tr>\n",
       "    <tr>\n",
       "      <th>1118</th>\n",
       "      <td>2019.0</td>\n",
       "      <td>injured</td>\n",
       "      <td>NaN</td>\n",
       "      <td>snorkelling</td>\n",
       "    </tr>\n",
       "    <tr>\n",
       "      <th>857</th>\n",
       "      <td>2008.0</td>\n",
       "      <td>injured</td>\n",
       "      <td>unprovoked</td>\n",
       "      <td>other: standing in water</td>\n",
       "    </tr>\n",
       "    <tr>\n",
       "      <th>777</th>\n",
       "      <td>2003.0</td>\n",
       "      <td>fatal</td>\n",
       "      <td>unprovoked</td>\n",
       "      <td>swimming</td>\n",
       "    </tr>\n",
       "    <tr>\n",
       "      <th>202</th>\n",
       "      <td>1919.0</td>\n",
       "      <td>fatal</td>\n",
       "      <td>unprovoked</td>\n",
       "      <td>swimming</td>\n",
       "    </tr>\n",
       "    <tr>\n",
       "      <th>105</th>\n",
       "      <td>1893.0</td>\n",
       "      <td>fatal</td>\n",
       "      <td>unprovoked</td>\n",
       "      <td>swimming</td>\n",
       "    </tr>\n",
       "    <tr>\n",
       "      <th>163</th>\n",
       "      <td>1912.0</td>\n",
       "      <td>injured</td>\n",
       "      <td>provoked</td>\n",
       "      <td>fishing</td>\n",
       "    </tr>\n",
       "    <tr>\n",
       "      <th>509</th>\n",
       "      <td>1961.0</td>\n",
       "      <td>injured</td>\n",
       "      <td>unprovoked</td>\n",
       "      <td>swimming</td>\n",
       "    </tr>\n",
       "    <tr>\n",
       "      <th>342</th>\n",
       "      <td>1936.0</td>\n",
       "      <td>injured</td>\n",
       "      <td>provoked</td>\n",
       "      <td>snorkelling</td>\n",
       "    </tr>\n",
       "    <tr>\n",
       "      <th>1083</th>\n",
       "      <td>2018.0</td>\n",
       "      <td>injured</td>\n",
       "      <td>unprovoked</td>\n",
       "      <td>boarding</td>\n",
       "    </tr>\n",
       "    <tr>\n",
       "      <th>134</th>\n",
       "      <td>1902.0</td>\n",
       "      <td>injured</td>\n",
       "      <td>unprovoked</td>\n",
       "      <td>swimming</td>\n",
       "    </tr>\n",
       "    <tr>\n",
       "      <th>500</th>\n",
       "      <td>1960.0</td>\n",
       "      <td>uninjured</td>\n",
       "      <td>provoked</td>\n",
       "      <td>spearfishing</td>\n",
       "    </tr>\n",
       "    <tr>\n",
       "      <th>786</th>\n",
       "      <td>2003.0</td>\n",
       "      <td>uninjured</td>\n",
       "      <td>unprovoked</td>\n",
       "      <td>swimming</td>\n",
       "    </tr>\n",
       "    <tr>\n",
       "      <th>1055</th>\n",
       "      <td>2017.0</td>\n",
       "      <td>uninjured</td>\n",
       "      <td>unprovoked</td>\n",
       "      <td>boarding</td>\n",
       "    </tr>\n",
       "    <tr>\n",
       "      <th>515</th>\n",
       "      <td>1961.0</td>\n",
       "      <td>injured</td>\n",
       "      <td>unprovoked</td>\n",
       "      <td>swimming</td>\n",
       "    </tr>\n",
       "    <tr>\n",
       "      <th>527</th>\n",
       "      <td>1964.0</td>\n",
       "      <td>injured</td>\n",
       "      <td>unprovoked</td>\n",
       "      <td>boarding</td>\n",
       "    </tr>\n",
       "  </tbody>\n",
       "</table>\n",
       "</div>"
      ],
      "text/plain": [
       "      incident_year recovery_status provoked_unprovoked  \\\n",
       "267          1929.0         injured            provoked   \n",
       "490          1959.0       uninjured            provoked   \n",
       "791          2004.0         injured            provoked   \n",
       "1158         2020.0           fatal          unprovoked   \n",
       "667          1992.0       uninjured            provoked   \n",
       "1118         2019.0         injured                 NaN   \n",
       "857          2008.0         injured          unprovoked   \n",
       "777          2003.0           fatal          unprovoked   \n",
       "202          1919.0           fatal          unprovoked   \n",
       "105          1893.0           fatal          unprovoked   \n",
       "163          1912.0         injured            provoked   \n",
       "509          1961.0         injured          unprovoked   \n",
       "342          1936.0         injured            provoked   \n",
       "1083         2018.0         injured          unprovoked   \n",
       "134          1902.0         injured          unprovoked   \n",
       "500          1960.0       uninjured            provoked   \n",
       "786          2003.0       uninjured          unprovoked   \n",
       "1055         2017.0       uninjured          unprovoked   \n",
       "515          1961.0         injured          unprovoked   \n",
       "527          1964.0         injured          unprovoked   \n",
       "\n",
       "               victim_activity  \n",
       "267                snorkelling  \n",
       "490               spearfishing  \n",
       "791               spearfishing  \n",
       "1158                  boarding  \n",
       "667                        NaN  \n",
       "1118               snorkelling  \n",
       "857   other: standing in water  \n",
       "777                   swimming  \n",
       "202                   swimming  \n",
       "105                   swimming  \n",
       "163                    fishing  \n",
       "509                   swimming  \n",
       "342                snorkelling  \n",
       "1083                  boarding  \n",
       "134                   swimming  \n",
       "500               spearfishing  \n",
       "786                   swimming  \n",
       "1055                  boarding  \n",
       "515                   swimming  \n",
       "527                   boarding  "
      ]
     },
     "execution_count": 5,
     "metadata": {},
     "output_type": "execute_result"
    }
   ],
   "source": [
    "df = pd.read_csv('activityData-cleaned.csv')\n",
    "df.sample(20)"
   ]
  },
  {
   "cell_type": "code",
   "execution_count": 6,
   "metadata": {},
   "outputs": [
    {
     "data": {
      "text/plain": [
       "incident_year          float64\n",
       "recovery_status         object\n",
       "provoked_unprovoked     object\n",
       "victim_activity         object\n",
       "dtype: object"
      ]
     },
     "execution_count": 6,
     "metadata": {},
     "output_type": "execute_result"
    }
   ],
   "source": [
    "df.dtypes"
   ]
  },
  {
   "cell_type": "code",
   "execution_count": 10,
   "metadata": {},
   "outputs": [
    {
     "data": {
      "text/plain": [
       "(1204, 4)"
      ]
     },
     "execution_count": 10,
     "metadata": {},
     "output_type": "execute_result"
    }
   ],
   "source": [
    "# How many shark bites are there in the data set?\n",
    "\n",
    "df.shape\n",
    "\n",
    "#There are 1203 shark bites in this dataset\n",
    "#df.tail()\n"
   ]
  },
  {
   "cell_type": "code",
   "execution_count": 11,
   "metadata": {},
   "outputs": [
    {
     "data": {
      "text/plain": [
       "injured      0.603679\n",
       "fatal        0.209030\n",
       "uninjured    0.186455\n",
       "Injured      0.000836\n",
       "Name: recovery_status, dtype: float64"
      ]
     },
     "execution_count": 11,
     "metadata": {},
     "output_type": "execute_result"
    }
   ],
   "source": [
    "# What percentage of those bites were fatal?\n",
    "df.recovery_status.value_counts(normalize=True)\n",
    "\n",
    "#20 percent of those bites were fatal"
   ]
  },
  {
   "cell_type": "code",
   "execution_count": 12,
   "metadata": {},
   "outputs": [
    {
     "data": {
      "text/plain": [
       "swimming                    451\n",
       "boarding                    281\n",
       "snorkelling                 127\n",
       "spearfishing                118\n",
       "diving                       91\n",
       "fishing                      37\n",
       "unmotorised boating          31\n",
       "other: standing in water     24\n",
       "surfing                       3\n",
       "motorised boating             2\n",
       "scuba diving                  2\n",
       "other:floating                2\n",
       "standing                      1\n",
       "wading                        1\n",
       "Name: victim_activity, dtype: int64"
      ]
     },
     "execution_count": 12,
     "metadata": {},
     "output_type": "execute_result"
    }
   ],
   "source": [
    "# What are the different options for Activity?\n",
    "df.victim_activity.value_counts()"
   ]
  },
  {
   "cell_type": "code",
   "execution_count": 15,
   "metadata": {},
   "outputs": [
    {
     "data": {
      "text/plain": [
       "victim_activity\n",
       "boarding                    281\n",
       "diving                       91\n",
       "fishing                      37\n",
       "motorised boating             2\n",
       "other: standing in water     24\n",
       "other:floating                2\n",
       "scuba diving                  2\n",
       "snorkelling                 127\n",
       "spearfishing                118\n",
       "standing                      1\n",
       "surfing                       3\n",
       "swimming                    451\n",
       "unmotorised boating          31\n",
       "wading                        1\n",
       "Name: incident_year, dtype: int64"
      ]
     },
     "execution_count": 15,
     "metadata": {},
     "output_type": "execute_result"
    }
   ],
   "source": [
    "# How many bites were there for each Activity?\n",
    "df.groupby('victim_activity').incident_year.count()"
   ]
  },
  {
   "cell_type": "code",
   "execution_count": 21,
   "metadata": {},
   "outputs": [
    {
     "data": {
      "text/plain": [
       "victim_activity           recovery_status\n",
       "boarding                  injured            0.555160\n",
       "                          uninjured          0.345196\n",
       "                          fatal              0.096085\n",
       "                          Injured            0.003559\n",
       "diving                    injured            0.439560\n",
       "                          uninjured          0.340659\n",
       "                          fatal              0.219780\n",
       "fishing                   injured            0.810811\n",
       "                          uninjured          0.189189\n",
       "motorised boating         injured            0.500000\n",
       "                          uninjured          0.500000\n",
       "other: standing in water  injured            0.916667\n",
       "                          fatal              0.083333\n",
       "other:floating            injured            1.000000\n",
       "scuba diving              injured            1.000000\n",
       "snorkelling               injured            0.724409\n",
       "                          fatal              0.220472\n",
       "                          uninjured          0.055118\n",
       "spearfishing              injured            0.610169\n",
       "                          uninjured          0.296610\n",
       "                          fatal              0.093220\n",
       "standing                  uninjured          1.000000\n",
       "surfing                   injured            0.666667\n",
       "                          uninjured          0.333333\n",
       "swimming                  injured            0.616408\n",
       "                          fatal              0.345898\n",
       "                          uninjured          0.037694\n",
       "unmotorised boating       uninjured          0.741935\n",
       "                          injured            0.258065\n",
       "wading                    injured            1.000000\n",
       "Name: recovery_status, dtype: float64"
      ]
     },
     "execution_count": 21,
     "metadata": {},
     "output_type": "execute_result"
    }
   ],
   "source": [
    "# What percentage of bites were fatal for each Activity?\n",
    "df.groupby('victim_activity').recovery_status.value_counts(normalize=True)"
   ]
  },
  {
   "cell_type": "code",
   "execution_count": 42,
   "metadata": {},
   "outputs": [
    {
     "data": {
      "text/plain": [
       "swimming                    63.934426\n",
       "snorkelling                 11.475410\n",
       "boarding                    11.065574\n",
       "diving                       8.196721\n",
       "spearfishing                 4.508197\n",
       "other: standing in water     0.819672\n",
       "Name: victim_activity, dtype: float64"
      ]
     },
     "execution_count": 42,
     "metadata": {},
     "output_type": "execute_result"
    }
   ],
   "source": [
    "df_fatal = df[df.recovery_status == 'fatal']\n",
    "percent_fatals = df_fatal.victim_activity.value_counts(normalize=True)\n",
    "percent_fatals * 100"
   ]
  },
  {
   "cell_type": "code",
   "execution_count": 46,
   "metadata": {},
   "outputs": [
    {
     "data": {
      "text/plain": [
       "recovery_status  provoked_unprovoked\n",
       "Injured          unprovoked               1\n",
       "fatal            unprovoked             197\n",
       "                 provoked                53\n",
       "injured          unprovoked             458\n",
       "                 provoked               261\n",
       "uninjured        unprovoked             138\n",
       "                 provoked                84\n",
       "Name: provoked_unprovoked, dtype: int64"
      ]
     },
     "execution_count": 46,
     "metadata": {},
     "output_type": "execute_result"
    }
   ],
   "source": [
    "# Are provoked or unprovoked bites more likely to be fatal?\n",
    "df.groupby('recovery_status').provoked_unprovoked.value_counts()\n",
    "\n",
    "#Unprovoked bites are more likely to be fatal."
   ]
  },
  {
   "cell_type": "code",
   "execution_count": 48,
   "metadata": {},
   "outputs": [
    {
     "data": {
      "text/html": [
       "<div>\n",
       "<style scoped>\n",
       "    .dataframe tbody tr th:only-of-type {\n",
       "        vertical-align: middle;\n",
       "    }\n",
       "\n",
       "    .dataframe tbody tr th {\n",
       "        vertical-align: top;\n",
       "    }\n",
       "\n",
       "    .dataframe thead th {\n",
       "        text-align: right;\n",
       "    }\n",
       "</style>\n",
       "<table border=\"1\" class=\"dataframe\">\n",
       "  <thead>\n",
       "    <tr style=\"text-align: right;\">\n",
       "      <th></th>\n",
       "      <th>incident_year</th>\n",
       "      <th>recovery_status</th>\n",
       "      <th>provoked_unprovoked</th>\n",
       "      <th>victim_activity</th>\n",
       "    </tr>\n",
       "  </thead>\n",
       "  <tbody>\n",
       "    <tr>\n",
       "      <th>0</th>\n",
       "      <td>1791.0</td>\n",
       "      <td>fatal</td>\n",
       "      <td>unprovoked</td>\n",
       "      <td>swimming</td>\n",
       "    </tr>\n",
       "    <tr>\n",
       "      <th>1</th>\n",
       "      <td>1803.0</td>\n",
       "      <td>injured</td>\n",
       "      <td>unprovoked</td>\n",
       "      <td>swimming</td>\n",
       "    </tr>\n",
       "    <tr>\n",
       "      <th>2</th>\n",
       "      <td>1807.0</td>\n",
       "      <td>injured</td>\n",
       "      <td>unprovoked</td>\n",
       "      <td>swimming</td>\n",
       "    </tr>\n",
       "    <tr>\n",
       "      <th>3</th>\n",
       "      <td>1820.0</td>\n",
       "      <td>fatal</td>\n",
       "      <td>provoked</td>\n",
       "      <td>swimming</td>\n",
       "    </tr>\n",
       "    <tr>\n",
       "      <th>4</th>\n",
       "      <td>1825.0</td>\n",
       "      <td>injured</td>\n",
       "      <td>unprovoked</td>\n",
       "      <td>swimming</td>\n",
       "    </tr>\n",
       "    <tr>\n",
       "      <th>...</th>\n",
       "      <td>...</td>\n",
       "      <td>...</td>\n",
       "      <td>...</td>\n",
       "      <td>...</td>\n",
       "    </tr>\n",
       "    <tr>\n",
       "      <th>1199</th>\n",
       "      <td>NaN</td>\n",
       "      <td>NaN</td>\n",
       "      <td>NaN</td>\n",
       "      <td>NaN</td>\n",
       "    </tr>\n",
       "    <tr>\n",
       "      <th>1200</th>\n",
       "      <td>NaN</td>\n",
       "      <td>NaN</td>\n",
       "      <td>NaN</td>\n",
       "      <td>NaN</td>\n",
       "    </tr>\n",
       "    <tr>\n",
       "      <th>1201</th>\n",
       "      <td>NaN</td>\n",
       "      <td>NaN</td>\n",
       "      <td>NaN</td>\n",
       "      <td>NaN</td>\n",
       "    </tr>\n",
       "    <tr>\n",
       "      <th>1202</th>\n",
       "      <td>NaN</td>\n",
       "      <td>NaN</td>\n",
       "      <td>NaN</td>\n",
       "      <td>NaN</td>\n",
       "    </tr>\n",
       "    <tr>\n",
       "      <th>1203</th>\n",
       "      <td>NaN</td>\n",
       "      <td>NaN</td>\n",
       "      <td>NaN</td>\n",
       "      <td>NaN</td>\n",
       "    </tr>\n",
       "  </tbody>\n",
       "</table>\n",
       "<p>1204 rows × 4 columns</p>\n",
       "</div>"
      ],
      "text/plain": [
       "      incident_year recovery_status provoked_unprovoked victim_activity\n",
       "0            1791.0           fatal          unprovoked        swimming\n",
       "1            1803.0         injured          unprovoked        swimming\n",
       "2            1807.0         injured          unprovoked        swimming\n",
       "3            1820.0           fatal            provoked        swimming\n",
       "4            1825.0         injured          unprovoked        swimming\n",
       "...             ...             ...                 ...             ...\n",
       "1199            NaN             NaN                 NaN             NaN\n",
       "1200            NaN             NaN                 NaN             NaN\n",
       "1201            NaN             NaN                 NaN             NaN\n",
       "1202            NaN             NaN                 NaN             NaN\n",
       "1203            NaN             NaN                 NaN             NaN\n",
       "\n",
       "[1204 rows x 4 columns]"
      ]
     },
     "execution_count": 48,
     "metadata": {},
     "output_type": "execute_result"
    }
   ],
   "source": [
    "# What was the earliest year in the data set?\n",
    "\n",
    "df.sort_values(by='incident_year')\n",
    "\n",
    "#Earliest record is of 1791"
   ]
  },
  {
   "cell_type": "code",
   "execution_count": 49,
   "metadata": {},
   "outputs": [
    {
     "data": {
      "text/html": [
       "<div>\n",
       "<style scoped>\n",
       "    .dataframe tbody tr th:only-of-type {\n",
       "        vertical-align: middle;\n",
       "    }\n",
       "\n",
       "    .dataframe tbody tr th {\n",
       "        vertical-align: top;\n",
       "    }\n",
       "\n",
       "    .dataframe thead th {\n",
       "        text-align: right;\n",
       "    }\n",
       "</style>\n",
       "<table border=\"1\" class=\"dataframe\">\n",
       "  <thead>\n",
       "    <tr style=\"text-align: right;\">\n",
       "      <th></th>\n",
       "      <th>incident_year</th>\n",
       "      <th>recovery_status</th>\n",
       "      <th>provoked_unprovoked</th>\n",
       "      <th>victim_activity</th>\n",
       "    </tr>\n",
       "  </thead>\n",
       "  <tbody>\n",
       "    <tr>\n",
       "      <th>1195</th>\n",
       "      <td>2022.0</td>\n",
       "      <td>uninjured</td>\n",
       "      <td>unprovoked</td>\n",
       "      <td>surfing</td>\n",
       "    </tr>\n",
       "    <tr>\n",
       "      <th>1194</th>\n",
       "      <td>2022.0</td>\n",
       "      <td>injured</td>\n",
       "      <td>unprovoked</td>\n",
       "      <td>wading</td>\n",
       "    </tr>\n",
       "    <tr>\n",
       "      <th>1193</th>\n",
       "      <td>2022.0</td>\n",
       "      <td>injured</td>\n",
       "      <td>unprovoked</td>\n",
       "      <td>scuba diving</td>\n",
       "    </tr>\n",
       "    <tr>\n",
       "      <th>1192</th>\n",
       "      <td>2022.0</td>\n",
       "      <td>injured</td>\n",
       "      <td>unprovoked</td>\n",
       "      <td>other:floating</td>\n",
       "    </tr>\n",
       "    <tr>\n",
       "      <th>1191</th>\n",
       "      <td>2022.0</td>\n",
       "      <td>injured</td>\n",
       "      <td>unprovoked</td>\n",
       "      <td>other:floating</td>\n",
       "    </tr>\n",
       "    <tr>\n",
       "      <th>...</th>\n",
       "      <td>...</td>\n",
       "      <td>...</td>\n",
       "      <td>...</td>\n",
       "      <td>...</td>\n",
       "    </tr>\n",
       "    <tr>\n",
       "      <th>1199</th>\n",
       "      <td>NaN</td>\n",
       "      <td>NaN</td>\n",
       "      <td>NaN</td>\n",
       "      <td>NaN</td>\n",
       "    </tr>\n",
       "    <tr>\n",
       "      <th>1200</th>\n",
       "      <td>NaN</td>\n",
       "      <td>NaN</td>\n",
       "      <td>NaN</td>\n",
       "      <td>NaN</td>\n",
       "    </tr>\n",
       "    <tr>\n",
       "      <th>1201</th>\n",
       "      <td>NaN</td>\n",
       "      <td>NaN</td>\n",
       "      <td>NaN</td>\n",
       "      <td>NaN</td>\n",
       "    </tr>\n",
       "    <tr>\n",
       "      <th>1202</th>\n",
       "      <td>NaN</td>\n",
       "      <td>NaN</td>\n",
       "      <td>NaN</td>\n",
       "      <td>NaN</td>\n",
       "    </tr>\n",
       "    <tr>\n",
       "      <th>1203</th>\n",
       "      <td>NaN</td>\n",
       "      <td>NaN</td>\n",
       "      <td>NaN</td>\n",
       "      <td>NaN</td>\n",
       "    </tr>\n",
       "  </tbody>\n",
       "</table>\n",
       "<p>1204 rows × 4 columns</p>\n",
       "</div>"
      ],
      "text/plain": [
       "      incident_year recovery_status provoked_unprovoked victim_activity\n",
       "1195         2022.0       uninjured          unprovoked         surfing\n",
       "1194         2022.0         injured          unprovoked          wading\n",
       "1193         2022.0         injured          unprovoked    scuba diving\n",
       "1192         2022.0         injured          unprovoked  other:floating\n",
       "1191         2022.0         injured          unprovoked  other:floating\n",
       "...             ...             ...                 ...             ...\n",
       "1199            NaN             NaN                 NaN             NaN\n",
       "1200            NaN             NaN                 NaN             NaN\n",
       "1201            NaN             NaN                 NaN             NaN\n",
       "1202            NaN             NaN                 NaN             NaN\n",
       "1203            NaN             NaN                 NaN             NaN\n",
       "\n",
       "[1204 rows x 4 columns]"
      ]
     },
     "execution_count": 49,
     "metadata": {},
     "output_type": "execute_result"
    }
   ],
   "source": [
    "# What was the latest year in the data set?\n",
    "df.sort_values(by='incident_year', ascending=False)\n",
    "\n",
    "#2022 is the latest year in the dataset"
   ]
  },
  {
   "cell_type": "code",
   "execution_count": 56,
   "metadata": {},
   "outputs": [
    {
     "data": {
      "text/html": [
       "<div>\n",
       "<style scoped>\n",
       "    .dataframe tbody tr th:only-of-type {\n",
       "        vertical-align: middle;\n",
       "    }\n",
       "\n",
       "    .dataframe tbody tr th {\n",
       "        vertical-align: top;\n",
       "    }\n",
       "\n",
       "    .dataframe thead th {\n",
       "        text-align: right;\n",
       "    }\n",
       "</style>\n",
       "<table border=\"1\" class=\"dataframe\">\n",
       "  <thead>\n",
       "    <tr style=\"text-align: right;\">\n",
       "      <th></th>\n",
       "      <th>recovery_status</th>\n",
       "      <th>provoked_unprovoked</th>\n",
       "      <th>victim_activity</th>\n",
       "    </tr>\n",
       "    <tr>\n",
       "      <th>incident_year</th>\n",
       "      <th></th>\n",
       "      <th></th>\n",
       "      <th></th>\n",
       "    </tr>\n",
       "  </thead>\n",
       "  <tbody>\n",
       "    <tr>\n",
       "      <th>1791.0</th>\n",
       "      <td>1</td>\n",
       "      <td>1</td>\n",
       "      <td>1</td>\n",
       "    </tr>\n",
       "    <tr>\n",
       "      <th>1803.0</th>\n",
       "      <td>1</td>\n",
       "      <td>1</td>\n",
       "      <td>1</td>\n",
       "    </tr>\n",
       "    <tr>\n",
       "      <th>1807.0</th>\n",
       "      <td>1</td>\n",
       "      <td>1</td>\n",
       "      <td>1</td>\n",
       "    </tr>\n",
       "    <tr>\n",
       "      <th>1820.0</th>\n",
       "      <td>1</td>\n",
       "      <td>1</td>\n",
       "      <td>1</td>\n",
       "    </tr>\n",
       "    <tr>\n",
       "      <th>1825.0</th>\n",
       "      <td>1</td>\n",
       "      <td>1</td>\n",
       "      <td>1</td>\n",
       "    </tr>\n",
       "    <tr>\n",
       "      <th>...</th>\n",
       "      <td>...</td>\n",
       "      <td>...</td>\n",
       "      <td>...</td>\n",
       "    </tr>\n",
       "    <tr>\n",
       "      <th>2018.0</th>\n",
       "      <td>30</td>\n",
       "      <td>30</td>\n",
       "      <td>27</td>\n",
       "    </tr>\n",
       "    <tr>\n",
       "      <th>2019.0</th>\n",
       "      <td>24</td>\n",
       "      <td>20</td>\n",
       "      <td>20</td>\n",
       "    </tr>\n",
       "    <tr>\n",
       "      <th>2020.0</th>\n",
       "      <td>37</td>\n",
       "      <td>37</td>\n",
       "      <td>35</td>\n",
       "    </tr>\n",
       "    <tr>\n",
       "      <th>2021.0</th>\n",
       "      <td>24</td>\n",
       "      <td>24</td>\n",
       "      <td>23</td>\n",
       "    </tr>\n",
       "    <tr>\n",
       "      <th>2022.0</th>\n",
       "      <td>9</td>\n",
       "      <td>9</td>\n",
       "      <td>9</td>\n",
       "    </tr>\n",
       "  </tbody>\n",
       "</table>\n",
       "<p>176 rows × 3 columns</p>\n",
       "</div>"
      ],
      "text/plain": [
       "               recovery_status  provoked_unprovoked  victim_activity\n",
       "incident_year                                                       \n",
       "1791.0                       1                    1                1\n",
       "1803.0                       1                    1                1\n",
       "1807.0                       1                    1                1\n",
       "1820.0                       1                    1                1\n",
       "1825.0                       1                    1                1\n",
       "...                        ...                  ...              ...\n",
       "2018.0                      30                   30               27\n",
       "2019.0                      24                   20               20\n",
       "2020.0                      37                   37               35\n",
       "2021.0                      24                   24               23\n",
       "2022.0                       9                    9                9\n",
       "\n",
       "[176 rows x 3 columns]"
      ]
     },
     "execution_count": 56,
     "metadata": {},
     "output_type": "execute_result"
    }
   ],
   "source": [
    "# How many years of data are there?\n",
    "df.groupby('incident_year').count()\n",
    "\n",
    "#There is data available for 175 years"
   ]
  },
  {
   "cell_type": "code",
   "execution_count": 92,
   "metadata": {},
   "outputs": [
    {
     "data": {
      "text/plain": [
       "<AxesSubplot: >"
      ]
     },
     "execution_count": 92,
     "metadata": {},
     "output_type": "execute_result"
    },
    {
     "data": {
      "image/png": "[encoded data removed]",
      "text/plain": [
       "<Figure size 640x480 with 1 Axes>"
      ]
     },
     "metadata": {},
     "output_type": "display_data"
    }
   ],
   "source": [
    "# Graph the number of bites per year.\n",
    "df.incident_year.value_counts().sort_index(ascending=False).plot(x='incident_year')\n",
    "\n",
    "#I tried multiple things here but nothing feels right"
   ]
  },
  {
   "cell_type": "code",
   "execution_count": null,
   "metadata": {},
   "outputs": [],
   "source": []
  },
  {
   "cell_type": "code",
   "execution_count": 93,
   "metadata": {},
   "outputs": [
    {
     "data": {
      "text/plain": [
       "<AxesSubplot: >"
      ]
     },
     "execution_count": 93,
     "metadata": {},
     "output_type": "execute_result"
    },
    {
     "data": {
      "image/png": "[encoded data removed]",
      "text/plain": [
       "<Figure size 640x480 with 1 Axes>"
      ]
     },
     "metadata": {},
     "output_type": "display_data"
    }
   ],
   "source": [
    "# Graph the number of data bites for each year.\n",
    "\n",
    "df_fatal.incident_year.value_counts().sort_index().plot()"
   ]
  },
  {
   "cell_type": "code",
   "execution_count": 2,
   "metadata": {},
   "outputs": [],
   "source": [
    "##INJURY DATA QUESTIONS"
   ]
  },
  {
   "cell_type": "code",
   "execution_count": 5,
   "metadata": {},
   "outputs": [],
   "source": [
    "df = pd.read_csv('injurydat-cleaned.csv')"
   ]
  },
  {
   "cell_type": "code",
   "execution_count": 9,
   "metadata": {},
   "outputs": [
    {
     "data": {
      "text/plain": [
       "(1204, 18)"
      ]
     },
     "execution_count": 9,
     "metadata": {},
     "output_type": "execute_result"
    }
   ],
   "source": [
    "# How many shark bites are there in the data set?\n",
    "#There are 1203 shark bites in this data set\n",
    "df.shape"
   ]
  },
  {
   "cell_type": "code",
   "execution_count": 13,
   "metadata": {},
   "outputs": [
    {
     "data": {
      "text/plain": [
       "white shark    360\n",
       "Name: shark_common_name, dtype: int64"
      ]
     },
     "execution_count": 13,
     "metadata": {},
     "output_type": "execute_result"
    }
   ],
   "source": [
    "# What shark species was involved in the most bites?\n",
    "#White sharks\n",
    "df.shark_common_name.value_counts().head(1)"
   ]
  },
  {
   "cell_type": "code",
   "execution_count": 16,
   "metadata": {},
   "outputs": [
    {
     "data": {
      "text/plain": [
       "white shark     91\n",
       "tiger shark     86\n",
       "bull shark      63\n",
       "whaler shark     5\n",
       "Name: shark_common_name, dtype: int64"
      ]
     },
     "execution_count": 16,
     "metadata": {},
     "output_type": "execute_result"
    }
   ],
   "source": [
    "# What shark species was involved in the most fatal bites?\n",
    "#White sharks\n",
    "df[df.victim_injury == 'fatal'].shark_common_name.value_counts()"
   ]
  },
  {
   "cell_type": "code",
   "execution_count": 18,
   "metadata": {},
   "outputs": [
    {
     "data": {
      "text/plain": [
       "male      1060\n",
       "female     117\n",
       "32           1\n",
       "47           1\n",
       "Name: victim_gender, dtype: int64"
      ]
     },
     "execution_count": 18,
     "metadata": {},
     "output_type": "execute_result"
    }
   ],
   "source": [
    "# Were more women or men involved in shark attacks?\n",
    "#More men were involved in shark attacks\n",
    "df.victim_gender.value_counts()"
   ]
  },
  {
   "cell_type": "code",
   "execution_count": 21,
   "metadata": {},
   "outputs": [
    {
     "data": {
      "text/plain": [
       "2.7"
      ]
     },
     "execution_count": 21,
     "metadata": {},
     "output_type": "execute_result"
    }
   ],
   "source": [
    "# What is the average length of sharks involved in bites?\n",
    "#Average length of sharks involved in bites is 2.7 m.\n",
    "df.shark_length_m.mean().round(2)"
   ]
  },
  {
   "cell_type": "code",
   "execution_count": 31,
   "metadata": {},
   "outputs": [
    {
     "data": {
      "text/plain": [
       "victim_injury\n",
       "fatal        3.84\n",
       "injured      2.26\n",
       "uninjured    2.95\n",
       "Name: shark_length_m, dtype: float64"
      ]
     },
     "execution_count": 31,
     "metadata": {},
     "output_type": "execute_result"
    }
   ],
   "source": [
    "# What is the average length of a shark involved in non-fatal bites as compared to that of fatal bites?\n",
    "#df.victim_injury = df.victim_injury.str.replace('I', 'i')\n",
    "\n",
    "df.groupby('victim_injury').shark_length_m.mean().round(2)"
   ]
  },
  {
   "cell_type": "code",
   "execution_count": 32,
   "metadata": {},
   "outputs": [
    {
     "data": {
      "text/plain": [
       "provoked_unprovoked\n",
       "provoked      2.56\n",
       "unprovoked    2.77\n",
       "Name: shark_length_m, dtype: float64"
      ]
     },
     "execution_count": 32,
     "metadata": {},
     "output_type": "execute_result"
    }
   ],
   "source": [
    "# What is the average length of a shark involved in bites that were provoked \n",
    "#as compared to that of bites that were unprovoked?\n",
    "df.head()\n",
    "\n",
    "df.groupby('provoked_unprovoked').shark_length_m.mean().round(2)"
   ]
  },
  {
   "cell_type": "code",
   "execution_count": 50,
   "metadata": {},
   "outputs": [
    {
     "data": {
      "text/plain": [
       "bull shark                   140\n",
       "tiger shark                   98\n",
       "white shark                   92\n",
       "wobbegong                     63\n",
       "whaler shark                  20\n",
       "lemon shark                    4\n",
       "dusky shark                    2\n",
       "blacktip reef shark            2\n",
       "galapagos shark                2\n",
       "unknown                        1\n",
       "wobbeogong                     1\n",
       "bronze whaler shark            1\n",
       "whitetip reef shark            1\n",
       "shortfin mako shark            1\n",
       "school shark                   1\n",
       "dogfish                        1\n",
       "broadnose sevengill shark      1\n",
       "grey nurse shark               1\n",
       "Name: shark_common_name, dtype: int64"
      ]
     },
     "execution_count": 50,
     "metadata": {},
     "output_type": "execute_result"
    }
   ],
   "source": [
    "# Are the types of sharks involves in swimming and surfing bites different than those involved in diving bites?\n",
    "df.head()\n",
    "\n",
    "df[df.victim_activity == 'swimming'].shark_common_name.value_counts()"
   ]
  },
  {
   "cell_type": "code",
   "execution_count": 51,
   "metadata": {},
   "outputs": [
    {
     "data": {
      "text/plain": [
       "wobbegong     1\n",
       "bull shark    1\n",
       "unknown       1\n",
       "Name: shark_common_name, dtype: int64"
      ]
     },
     "execution_count": 51,
     "metadata": {},
     "output_type": "execute_result"
    }
   ],
   "source": [
    "df[df.victim_activity == 'surfing'].shark_common_name.value_counts()"
   ]
  },
  {
   "cell_type": "code",
   "execution_count": 52,
   "metadata": {},
   "outputs": [
    {
     "data": {
      "text/plain": [
       "wobbegong              32\n",
       "white shark            32\n",
       "tiger shark             9\n",
       "whaler shark            5\n",
       "grey reef shark         3\n",
       "whitetip reef shark     2\n",
       "bronze whaler shark     2\n",
       "hammerhead shark        1\n",
       "grey nurse shark        1\n",
       "sevengill shark         1\n",
       "bull shark              1\n",
       "port jackson shark      1\n",
       "Name: shark_common_name, dtype: int64"
      ]
     },
     "execution_count": 52,
     "metadata": {},
     "output_type": "execute_result"
    }
   ],
   "source": [
    "df[df.victim_activity == 'diving'].shark_common_name.value_counts()"
   ]
  },
  {
   "cell_type": "code",
   "execution_count": 54,
   "metadata": {},
   "outputs": [
    {
     "data": {
      "text/plain": [
       "victim_injury  shark_common_name        \n",
       "fatal          white shark                   91\n",
       "               tiger shark                   86\n",
       "               bull shark                    63\n",
       "               whaler shark                   5\n",
       "injured        wobbegong                    190\n",
       "               white shark                  167\n",
       "               tiger shark                  113\n",
       "               bull shark                   107\n",
       "               whaler shark                  48\n",
       "               bronze whaler shark           14\n",
       "               grey nurse shark               8\n",
       "               grey reef shark                7\n",
       "               whitetip reef shark            7\n",
       "               lemon shark                    5\n",
       "               blacktip reef shark            3\n",
       "               galapagos shark                3\n",
       "               hammerhead shark               3\n",
       "               broadnose sevengill shark      2\n",
       "               dusky shark                    2\n",
       "               tiger shark                    2\n",
       "               unknown                        2\n",
       "               blind shark                    1\n",
       "               dogfish                        1\n",
       "               school shark                   1\n",
       "               shortfin mako shark            1\n",
       "               silvertip shark                1\n",
       "               wobbeogong                     1\n",
       "uninjured      white shark                  102\n",
       "               tiger shark                   28\n",
       "               bull shark                    27\n",
       "               whaler shark                  20\n",
       "               bronze whaler shark           13\n",
       "               wobbegong                     10\n",
       "               dusky shark                    3\n",
       "               unknown                        3\n",
       "               blacktip reef shark            1\n",
       "               grey nurse shark               1\n",
       "               grey reef shark                1\n",
       "               hammerhead shark               1\n",
       "               hammerhead shark               1\n",
       "               port jackson shark             1\n",
       "               sevengill shark                1\n",
       "               shortfin mako shark            1\n",
       "               white shark                    1\n",
       "Name: shark_common_name, dtype: int64"
      ]
     },
     "execution_count": 54,
     "metadata": {},
     "output_type": "execute_result"
    }
   ],
   "source": [
    "# Are the types of sharks involved in fatal bites different than those involved in non-fatal bites?\n",
    "#More wobbegong sharks are involved in injuries while white, tiger, and bull sharks are involved \n",
    "#in fatal as well as non-fatal sharks.\n",
    "df.groupby('victim_injury').shark_common_name.value_counts()"
   ]
  },
  {
   "cell_type": "code",
   "execution_count": null,
   "metadata": {},
   "outputs": [],
   "source": []
  }
 ],
 "metadata": {
  "kernelspec": {
   "display_name": "Python 3 (ipykernel)",
   "language": "python",
   "name": "python3"
  },
  "language_info": {
   "codemirror_mode": {
    "name": "ipython",
    "version": 3
   },
   "file_extension": ".py",
   "mimetype": "text/x-python",
   "name": "python",
   "nbconvert_exporter": "python",
   "pygments_lexer": "ipython3",
   "version": "3.11.0rc2"
  },
  "vscode": {
   "interpreter": {
    "hash": "4af5af0f04fcb380cec1c78a427d6ee46cb6215f4740c4f606bab0dcb6aa5c09"
   }
  }
 },
 "nbformat": 4,
 "nbformat_minor": 2
}
