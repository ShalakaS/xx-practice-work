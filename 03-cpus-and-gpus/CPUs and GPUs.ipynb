{
 "cells": [
  {
   "cell_type": "markdown",
   "metadata": {},
   "source": [
    "# CPUs and GPUs\n",
    "\n",
    "Data is a slightly cleaned version of the [Chip dataset](https://chip-dataset.vercel.app/)\n",
    "\n",
    "## Questions\n",
    "\n",
    "1. How many rows are in the dataset?\n",
    "2. Are there more CPUs or GPUs in the dataset?\n",
    "3. Generally speaking, do GPUs or CPUs have more transistors?\n",
    "4. Is the same true of CPUs and GPUs released before 2007?\n",
    "5. How many times more transistors does a typical 2020 CPU have than a 2015 CPU?\n",
    "6. You probably used median or mean for the previous questions. Now try the other one: does it change the answer?\n",
    "7. Are there certain months of the year that are more popular to release GPUs?\n",
    "8. Plot the change in process size over time for CPUs, on an **annual basis**.\n",
    "9. Plot the change in frequency over time for GPUs on a **6-month basis.**"
   ]
  },
  {
   "cell_type": "code",
   "execution_count": 1,
   "metadata": {},
   "outputs": [],
   "source": [
    "import pandas as pd"
   ]
  },
  {
   "cell_type": "code",
   "execution_count": 2,
   "metadata": {},
   "outputs": [],
   "source": [
    "df = pd.read_csv('chip-dataset.csv')"
   ]
  },
  {
   "cell_type": "code",
   "execution_count": 3,
   "metadata": {},
   "outputs": [
    {
     "data": {
      "text/html": [
       "<div>\n",
       "<style scoped>\n",
       "    .dataframe tbody tr th:only-of-type {\n",
       "        vertical-align: middle;\n",
       "    }\n",
       "\n",
       "    .dataframe tbody tr th {\n",
       "        vertical-align: top;\n",
       "    }\n",
       "\n",
       "    .dataframe thead th {\n",
       "        text-align: right;\n",
       "    }\n",
       "</style>\n",
       "<table border=\"1\" class=\"dataframe\">\n",
       "  <thead>\n",
       "    <tr style=\"text-align: right;\">\n",
       "      <th></th>\n",
       "      <th>Product</th>\n",
       "      <th>Type</th>\n",
       "      <th>Release Date</th>\n",
       "      <th>Process Size (nm)</th>\n",
       "      <th>TDP (W)</th>\n",
       "      <th>Die Size (mm^2)</th>\n",
       "      <th>Transistors (million)</th>\n",
       "      <th>Freq (MHz)</th>\n",
       "      <th>Foundry</th>\n",
       "      <th>Vendor</th>\n",
       "      <th>FP16 GFLOPS</th>\n",
       "      <th>FP32 GFLOPS</th>\n",
       "      <th>FP64 GFLOPS</th>\n",
       "    </tr>\n",
       "  </thead>\n",
       "  <tbody>\n",
       "    <tr>\n",
       "      <th>0</th>\n",
       "      <td>AMD Athlon 64 3500+</td>\n",
       "      <td>CPU</td>\n",
       "      <td>2007-02-20</td>\n",
       "      <td>65.0</td>\n",
       "      <td>45.0</td>\n",
       "      <td>77.0</td>\n",
       "      <td>122.0</td>\n",
       "      <td>2200.0</td>\n",
       "      <td>Unknown</td>\n",
       "      <td>AMD</td>\n",
       "      <td>NaN</td>\n",
       "      <td>NaN</td>\n",
       "      <td>NaN</td>\n",
       "    </tr>\n",
       "    <tr>\n",
       "      <th>1</th>\n",
       "      <td>AMD Athlon 200GE</td>\n",
       "      <td>CPU</td>\n",
       "      <td>2018-09-06</td>\n",
       "      <td>14.0</td>\n",
       "      <td>35.0</td>\n",
       "      <td>192.0</td>\n",
       "      <td>4800.0</td>\n",
       "      <td>3200.0</td>\n",
       "      <td>Unknown</td>\n",
       "      <td>AMD</td>\n",
       "      <td>NaN</td>\n",
       "      <td>NaN</td>\n",
       "      <td>NaN</td>\n",
       "    </tr>\n",
       "    <tr>\n",
       "      <th>2</th>\n",
       "      <td>Intel Core i5-1145G7</td>\n",
       "      <td>CPU</td>\n",
       "      <td>2020-09-02</td>\n",
       "      <td>10.0</td>\n",
       "      <td>28.0</td>\n",
       "      <td>NaN</td>\n",
       "      <td>NaN</td>\n",
       "      <td>2600.0</td>\n",
       "      <td>Intel</td>\n",
       "      <td>Intel</td>\n",
       "      <td>NaN</td>\n",
       "      <td>NaN</td>\n",
       "      <td>NaN</td>\n",
       "    </tr>\n",
       "    <tr>\n",
       "      <th>3</th>\n",
       "      <td>Intel Xeon E5-2603 v2</td>\n",
       "      <td>CPU</td>\n",
       "      <td>2013-09-01</td>\n",
       "      <td>22.0</td>\n",
       "      <td>80.0</td>\n",
       "      <td>160.0</td>\n",
       "      <td>1400.0</td>\n",
       "      <td>1800.0</td>\n",
       "      <td>Intel</td>\n",
       "      <td>Intel</td>\n",
       "      <td>NaN</td>\n",
       "      <td>NaN</td>\n",
       "      <td>NaN</td>\n",
       "    </tr>\n",
       "    <tr>\n",
       "      <th>4</th>\n",
       "      <td>AMD Phenom II X4 980 BE</td>\n",
       "      <td>CPU</td>\n",
       "      <td>2011-05-03</td>\n",
       "      <td>45.0</td>\n",
       "      <td>125.0</td>\n",
       "      <td>258.0</td>\n",
       "      <td>758.0</td>\n",
       "      <td>3700.0</td>\n",
       "      <td>Unknown</td>\n",
       "      <td>AMD</td>\n",
       "      <td>NaN</td>\n",
       "      <td>NaN</td>\n",
       "      <td>NaN</td>\n",
       "    </tr>\n",
       "    <tr>\n",
       "      <th>...</th>\n",
       "      <td>...</td>\n",
       "      <td>...</td>\n",
       "      <td>...</td>\n",
       "      <td>...</td>\n",
       "      <td>...</td>\n",
       "      <td>...</td>\n",
       "      <td>...</td>\n",
       "      <td>...</td>\n",
       "      <td>...</td>\n",
       "      <td>...</td>\n",
       "      <td>...</td>\n",
       "      <td>...</td>\n",
       "      <td>...</td>\n",
       "    </tr>\n",
       "    <tr>\n",
       "      <th>4849</th>\n",
       "      <td>NVIDIA Quadro 3000M</td>\n",
       "      <td>GPU</td>\n",
       "      <td>2011-02-22</td>\n",
       "      <td>40.0</td>\n",
       "      <td>75.0</td>\n",
       "      <td>332.0</td>\n",
       "      <td>1950.0</td>\n",
       "      <td>450.0</td>\n",
       "      <td>TSMC</td>\n",
       "      <td>NVIDIA</td>\n",
       "      <td>NaN</td>\n",
       "      <td>432.0</td>\n",
       "      <td>36.0</td>\n",
       "    </tr>\n",
       "    <tr>\n",
       "      <th>4850</th>\n",
       "      <td>Intel GMA 950</td>\n",
       "      <td>GPU</td>\n",
       "      <td>2005-06-01</td>\n",
       "      <td>90.0</td>\n",
       "      <td>7.0</td>\n",
       "      <td>NaN</td>\n",
       "      <td>NaN</td>\n",
       "      <td>250.0</td>\n",
       "      <td>Intel</td>\n",
       "      <td>Intel</td>\n",
       "      <td>NaN</td>\n",
       "      <td>NaN</td>\n",
       "      <td>NaN</td>\n",
       "    </tr>\n",
       "    <tr>\n",
       "      <th>4851</th>\n",
       "      <td>NVIDIA GeForce GT 320M</td>\n",
       "      <td>GPU</td>\n",
       "      <td>2010-03-03</td>\n",
       "      <td>40.0</td>\n",
       "      <td>23.0</td>\n",
       "      <td>100.0</td>\n",
       "      <td>486.0</td>\n",
       "      <td>500.0</td>\n",
       "      <td>TSMC</td>\n",
       "      <td>NVIDIA</td>\n",
       "      <td>NaN</td>\n",
       "      <td>52.8</td>\n",
       "      <td>NaN</td>\n",
       "    </tr>\n",
       "    <tr>\n",
       "      <th>4852</th>\n",
       "      <td>NVIDIA GeForce FX 5200</td>\n",
       "      <td>GPU</td>\n",
       "      <td>2003-03-06</td>\n",
       "      <td>150.0</td>\n",
       "      <td>NaN</td>\n",
       "      <td>65.0</td>\n",
       "      <td>29.0</td>\n",
       "      <td>250.0</td>\n",
       "      <td>TSMC</td>\n",
       "      <td>NVIDIA</td>\n",
       "      <td>NaN</td>\n",
       "      <td>NaN</td>\n",
       "      <td>NaN</td>\n",
       "    </tr>\n",
       "    <tr>\n",
       "      <th>4853</th>\n",
       "      <td>NVIDIA GeForce 9300 SE</td>\n",
       "      <td>GPU</td>\n",
       "      <td>2008-06-01</td>\n",
       "      <td>65.0</td>\n",
       "      <td>NaN</td>\n",
       "      <td>86.0</td>\n",
       "      <td>210.0</td>\n",
       "      <td>540.0</td>\n",
       "      <td>TSMC</td>\n",
       "      <td>NVIDIA</td>\n",
       "      <td>NaN</td>\n",
       "      <td>20.8</td>\n",
       "      <td>NaN</td>\n",
       "    </tr>\n",
       "  </tbody>\n",
       "</table>\n",
       "<p>4854 rows × 13 columns</p>\n",
       "</div>"
      ],
      "text/plain": [
       "                      Product Type Release Date  Process Size (nm)  TDP (W)  \\\n",
       "0         AMD Athlon 64 3500+  CPU   2007-02-20               65.0     45.0   \n",
       "1            AMD Athlon 200GE  CPU   2018-09-06               14.0     35.0   \n",
       "2        Intel Core i5-1145G7  CPU   2020-09-02               10.0     28.0   \n",
       "3       Intel Xeon E5-2603 v2  CPU   2013-09-01               22.0     80.0   \n",
       "4     AMD Phenom II X4 980 BE  CPU   2011-05-03               45.0    125.0   \n",
       "...                       ...  ...          ...                ...      ...   \n",
       "4849      NVIDIA Quadro 3000M  GPU   2011-02-22               40.0     75.0   \n",
       "4850            Intel GMA 950  GPU   2005-06-01               90.0      7.0   \n",
       "4851   NVIDIA GeForce GT 320M  GPU   2010-03-03               40.0     23.0   \n",
       "4852   NVIDIA GeForce FX 5200  GPU   2003-03-06              150.0      NaN   \n",
       "4853   NVIDIA GeForce 9300 SE  GPU   2008-06-01               65.0      NaN   \n",
       "\n",
       "      Die Size (mm^2)  Transistors (million)  Freq (MHz)  Foundry  Vendor  \\\n",
       "0                77.0                  122.0      2200.0  Unknown     AMD   \n",
       "1               192.0                 4800.0      3200.0  Unknown     AMD   \n",
       "2                 NaN                    NaN      2600.0    Intel   Intel   \n",
       "3               160.0                 1400.0      1800.0    Intel   Intel   \n",
       "4               258.0                  758.0      3700.0  Unknown     AMD   \n",
       "...               ...                    ...         ...      ...     ...   \n",
       "4849            332.0                 1950.0       450.0     TSMC  NVIDIA   \n",
       "4850              NaN                    NaN       250.0    Intel   Intel   \n",
       "4851            100.0                  486.0       500.0     TSMC  NVIDIA   \n",
       "4852             65.0                   29.0       250.0     TSMC  NVIDIA   \n",
       "4853             86.0                  210.0       540.0     TSMC  NVIDIA   \n",
       "\n",
       "      FP16 GFLOPS  FP32 GFLOPS  FP64 GFLOPS  \n",
       "0             NaN          NaN          NaN  \n",
       "1             NaN          NaN          NaN  \n",
       "2             NaN          NaN          NaN  \n",
       "3             NaN          NaN          NaN  \n",
       "4             NaN          NaN          NaN  \n",
       "...           ...          ...          ...  \n",
       "4849          NaN        432.0         36.0  \n",
       "4850          NaN          NaN          NaN  \n",
       "4851          NaN         52.8          NaN  \n",
       "4852          NaN          NaN          NaN  \n",
       "4853          NaN         20.8          NaN  \n",
       "\n",
       "[4854 rows x 13 columns]"
      ]
     },
     "execution_count": 3,
     "metadata": {},
     "output_type": "execute_result"
    }
   ],
   "source": [
    "#How many rows are in the dataset?\n",
    "#4854 rows\n",
    "\n",
    "df"
   ]
  },
  {
   "cell_type": "code",
   "execution_count": 4,
   "metadata": {},
   "outputs": [
    {
     "data": {
      "text/plain": [
       "GPU    2662\n",
       "CPU    2192\n",
       "Name: Type, dtype: int64"
      ]
     },
     "execution_count": 4,
     "metadata": {},
     "output_type": "execute_result"
    }
   ],
   "source": [
    "#Are there more CPUs or GPUs in the dataset?\n",
    "#There are more GPUs in the dataset\n",
    "\n",
    "df.Type.value_counts()"
   ]
  },
  {
   "cell_type": "code",
   "execution_count": 9,
   "metadata": {},
   "outputs": [
    {
     "data": {
      "text/html": [
       "<div>\n",
       "<style scoped>\n",
       "    .dataframe tbody tr th:only-of-type {\n",
       "        vertical-align: middle;\n",
       "    }\n",
       "\n",
       "    .dataframe tbody tr th {\n",
       "        vertical-align: top;\n",
       "    }\n",
       "\n",
       "    .dataframe thead th {\n",
       "        text-align: right;\n",
       "    }\n",
       "</style>\n",
       "<table border=\"1\" class=\"dataframe\">\n",
       "  <thead>\n",
       "    <tr style=\"text-align: right;\">\n",
       "      <th></th>\n",
       "      <th>Product</th>\n",
       "      <th>Type</th>\n",
       "      <th>Release_Date</th>\n",
       "      <th>Process_Size_nm</th>\n",
       "      <th>TDP_W</th>\n",
       "      <th>Die_Size_mm^2</th>\n",
       "      <th>Transistors_million</th>\n",
       "      <th>Freq_MHz</th>\n",
       "      <th>Foundry</th>\n",
       "      <th>Vendor</th>\n",
       "      <th>FP16_GFLOPS</th>\n",
       "      <th>FP32_GFLOPS</th>\n",
       "      <th>FP64_GFLOPS</th>\n",
       "    </tr>\n",
       "  </thead>\n",
       "  <tbody>\n",
       "    <tr>\n",
       "      <th>0</th>\n",
       "      <td>AMD Athlon 64 3500+</td>\n",
       "      <td>CPU</td>\n",
       "      <td>2007-02-20</td>\n",
       "      <td>65.0</td>\n",
       "      <td>45.0</td>\n",
       "      <td>77.0</td>\n",
       "      <td>122.0</td>\n",
       "      <td>2200.0</td>\n",
       "      <td>Unknown</td>\n",
       "      <td>AMD</td>\n",
       "      <td>NaN</td>\n",
       "      <td>NaN</td>\n",
       "      <td>NaN</td>\n",
       "    </tr>\n",
       "  </tbody>\n",
       "</table>\n",
       "</div>"
      ],
      "text/plain": [
       "               Product Type Release_Date  Process_Size_nm  TDP_W  \\\n",
       "0  AMD Athlon 64 3500+  CPU   2007-02-20             65.0   45.0   \n",
       "\n",
       "   Die_Size_mm^2  Transistors_million  Freq_MHz  Foundry Vendor  FP16_GFLOPS  \\\n",
       "0           77.0                122.0    2200.0  Unknown    AMD          NaN   \n",
       "\n",
       "   FP32_GFLOPS  FP64_GFLOPS  \n",
       "0          NaN          NaN  "
      ]
     },
     "execution_count": 9,
     "metadata": {},
     "output_type": "execute_result"
    }
   ],
   "source": [
    "df.head(1)"
   ]
  },
  {
   "cell_type": "code",
   "execution_count": 16,
   "metadata": {},
   "outputs": [
    {
     "data": {
      "text/plain": [
       "Type\n",
       "CPU    1936870.0\n",
       "GPU    6058798.0\n",
       "Name: Transistors_million, dtype: float64"
      ]
     },
     "execution_count": 16,
     "metadata": {},
     "output_type": "execute_result"
    }
   ],
   "source": [
    "# Generally speaking, do GPUs or CPUs have more transistors?\n",
    "#GPUs have more transistors in general.\n",
    "#df.columns = df.columns.str.replace(' ', '_').str.replace('(', '').str.replace(')', '')\n",
    "df.groupby('Type').Transistors_million.sum()"
   ]
  },
  {
   "cell_type": "code",
   "execution_count": 21,
   "metadata": {},
   "outputs": [
    {
     "data": {
      "text/html": [
       "<div>\n",
       "<style scoped>\n",
       "    .dataframe tbody tr th:only-of-type {\n",
       "        vertical-align: middle;\n",
       "    }\n",
       "\n",
       "    .dataframe tbody tr th {\n",
       "        vertical-align: top;\n",
       "    }\n",
       "\n",
       "    .dataframe thead th {\n",
       "        text-align: right;\n",
       "    }\n",
       "</style>\n",
       "<table border=\"1\" class=\"dataframe\">\n",
       "  <thead>\n",
       "    <tr style=\"text-align: right;\">\n",
       "      <th></th>\n",
       "      <th>Product</th>\n",
       "      <th>Type</th>\n",
       "      <th>Release_Date</th>\n",
       "      <th>Process_Size_nm</th>\n",
       "      <th>TDP_W</th>\n",
       "      <th>Die_Size_mm^2</th>\n",
       "      <th>Transistors_million</th>\n",
       "      <th>Freq_MHz</th>\n",
       "      <th>Foundry</th>\n",
       "      <th>Vendor</th>\n",
       "      <th>FP16_GFLOPS</th>\n",
       "      <th>FP32_GFLOPS</th>\n",
       "      <th>FP64_GFLOPS</th>\n",
       "      <th>DT_type</th>\n",
       "    </tr>\n",
       "  </thead>\n",
       "  <tbody>\n",
       "    <tr>\n",
       "      <th>0</th>\n",
       "      <td>AMD Athlon 64 3500+</td>\n",
       "      <td>CPU</td>\n",
       "      <td>2007-02-20</td>\n",
       "      <td>65.0</td>\n",
       "      <td>45.0</td>\n",
       "      <td>77.0</td>\n",
       "      <td>122.0</td>\n",
       "      <td>2200.0</td>\n",
       "      <td>Unknown</td>\n",
       "      <td>AMD</td>\n",
       "      <td>NaN</td>\n",
       "      <td>NaN</td>\n",
       "      <td>NaN</td>\n",
       "      <td>2007-02-20</td>\n",
       "    </tr>\n",
       "  </tbody>\n",
       "</table>\n",
       "</div>"
      ],
      "text/plain": [
       "               Product Type Release_Date  Process_Size_nm  TDP_W  \\\n",
       "0  AMD Athlon 64 3500+  CPU   2007-02-20             65.0   45.0   \n",
       "\n",
       "   Die_Size_mm^2  Transistors_million  Freq_MHz  Foundry Vendor  FP16_GFLOPS  \\\n",
       "0           77.0                122.0    2200.0  Unknown    AMD          NaN   \n",
       "\n",
       "   FP32_GFLOPS  FP64_GFLOPS    DT_type  \n",
       "0          NaN          NaN 2007-02-20  "
      ]
     },
     "execution_count": 21,
     "metadata": {},
     "output_type": "execute_result"
    }
   ],
   "source": [
    "# Is the same true of CPUs and GPUs released before 2007?\n",
    "#No, before 2007, CPUs had more transistors"
   ]
  },
  {
   "cell_type": "code",
   "execution_count": 41,
   "metadata": {},
   "outputs": [
    {
     "data": {
      "text/plain": [
       "Type\n",
       "CPU    80794.0\n",
       "GPU    68355.0\n",
       "Name: Transistors_million, dtype: float64"
      ]
     },
     "execution_count": 41,
     "metadata": {},
     "output_type": "execute_result"
    }
   ],
   "source": [
    "#df['DT_type'] = pd.to_datetime(df.Release_Date)\n",
    "#df['year'] = df.DT_type.dt.year\n",
    "df[df.DT_type.dt.year < 2007].groupby('Type').Transistors_million.sum()"
   ]
  },
  {
   "cell_type": "code",
   "execution_count": 57,
   "metadata": {},
   "outputs": [
    {
     "data": {
      "text/plain": [
       "6597.5"
      ]
     },
     "execution_count": 57,
     "metadata": {},
     "output_type": "execute_result"
    }
   ],
   "source": [
    "# How many times more transistors does a typical 2020 CPU have than a 2015 CPU?\n",
    "transistors_2020 = df[(df.DT_type.dt.year == 2020) & (df.Type == 'CPU')].Transistors_million.mean().round(2)\n",
    "transistors_2020"
   ]
  },
  {
   "cell_type": "code",
   "execution_count": 58,
   "metadata": {},
   "outputs": [
    {
     "data": {
      "text/plain": [
       "1382.42"
      ]
     },
     "execution_count": 58,
     "metadata": {},
     "output_type": "execute_result"
    }
   ],
   "source": [
    "transistors_2015 = df[(df.DT_type.dt.year == 2015) & (df.Type == 'CPU')].Transistors_million.mean().round(2)\n",
    "transistors_2015"
   ]
  },
  {
   "cell_type": "code",
   "execution_count": 60,
   "metadata": {},
   "outputs": [
    {
     "data": {
      "text/plain": [
       "4.77"
      ]
     },
     "execution_count": 60,
     "metadata": {},
     "output_type": "execute_result"
    }
   ],
   "source": [
    "(transistors_2020/transistors_2015).round(2)\n",
    "\n",
    "#2015 CPU transistors were 4.77 times more than 2020 cPU transistors"
   ]
  },
  {
   "cell_type": "code",
   "execution_count": 63,
   "metadata": {},
   "outputs": [
    {
     "data": {
      "text/plain": [
       "4370.0"
      ]
     },
     "execution_count": 63,
     "metadata": {},
     "output_type": "execute_result"
    }
   ],
   "source": [
    "# You probably used median or mean for the previous questions. Now try the other one: does it change the answer?\n",
    "#Yes, it changes the answer.\n",
    "median_2020 = df[(df.DT_type.dt.year == 2020) & (df.Type == 'CPU')].Transistors_million.median()\n",
    "median_2020"
   ]
  },
  {
   "cell_type": "code",
   "execution_count": 64,
   "metadata": {},
   "outputs": [
    {
     "data": {
      "text/plain": [
       "1400.0"
      ]
     },
     "execution_count": 64,
     "metadata": {},
     "output_type": "execute_result"
    }
   ],
   "source": [
    "median_2015 = df[(df.DT_type.dt.year == 2015) & (df.Type == 'CPU')].Transistors_million.median()\n",
    "median_2015"
   ]
  },
  {
   "cell_type": "code",
   "execution_count": 66,
   "metadata": {},
   "outputs": [
    {
     "data": {
      "text/plain": [
       "3.12"
      ]
     },
     "execution_count": 66,
     "metadata": {},
     "output_type": "execute_result"
    }
   ],
   "source": [
    "(median_2020/median_2015).round(2)"
   ]
  },
  {
   "cell_type": "code",
   "execution_count": 79,
   "metadata": {},
   "outputs": [
    {
     "data": {
      "text/plain": [
       "1.0     368\n",
       "3.0     274\n",
       "6.0     242\n",
       "5.0     242\n",
       "4.0     233\n",
       "10.0    213\n",
       "2.0     207\n",
       "9.0     200\n",
       "11.0    176\n",
       "7.0     157\n",
       "8.0     156\n",
       "12.0    122\n",
       "Name: DT_type, dtype: int64"
      ]
     },
     "execution_count": 79,
     "metadata": {},
     "output_type": "execute_result"
    }
   ],
   "source": [
    "# Are there certain months of the year that are more popular to release GPUs?\n",
    "#Yes, January had more GPU releases than any other month\n",
    "df[df.Type == 'GPU'].DT_type.dt.month.value_counts()"
   ]
  },
  {
   "cell_type": "code",
   "execution_count": 80,
   "metadata": {},
   "outputs": [
    {
     "data": {
      "text/html": [
       "<div>\n",
       "<style scoped>\n",
       "    .dataframe tbody tr th:only-of-type {\n",
       "        vertical-align: middle;\n",
       "    }\n",
       "\n",
       "    .dataframe tbody tr th {\n",
       "        vertical-align: top;\n",
       "    }\n",
       "\n",
       "    .dataframe thead th {\n",
       "        text-align: right;\n",
       "    }\n",
       "</style>\n",
       "<table border=\"1\" class=\"dataframe\">\n",
       "  <thead>\n",
       "    <tr style=\"text-align: right;\">\n",
       "      <th></th>\n",
       "      <th>Product</th>\n",
       "      <th>Type</th>\n",
       "      <th>Release_Date</th>\n",
       "      <th>Process_Size_nm</th>\n",
       "      <th>TDP_W</th>\n",
       "      <th>Die_Size_mm^2</th>\n",
       "      <th>Transistors_million</th>\n",
       "      <th>Freq_MHz</th>\n",
       "      <th>Foundry</th>\n",
       "      <th>Vendor</th>\n",
       "      <th>FP16_GFLOPS</th>\n",
       "      <th>FP32_GFLOPS</th>\n",
       "      <th>FP64_GFLOPS</th>\n",
       "      <th>DT_type</th>\n",
       "      <th>year</th>\n",
       "    </tr>\n",
       "  </thead>\n",
       "  <tbody>\n",
       "    <tr>\n",
       "      <th>0</th>\n",
       "      <td>AMD Athlon 64 3500+</td>\n",
       "      <td>CPU</td>\n",
       "      <td>2007-02-20</td>\n",
       "      <td>65.0</td>\n",
       "      <td>45.0</td>\n",
       "      <td>77.0</td>\n",
       "      <td>122.0</td>\n",
       "      <td>2200.0</td>\n",
       "      <td>Unknown</td>\n",
       "      <td>AMD</td>\n",
       "      <td>NaN</td>\n",
       "      <td>NaN</td>\n",
       "      <td>NaN</td>\n",
       "      <td>2007-02-20</td>\n",
       "      <td>2007.0</td>\n",
       "    </tr>\n",
       "  </tbody>\n",
       "</table>\n",
       "</div>"
      ],
      "text/plain": [
       "               Product Type Release_Date  Process_Size_nm  TDP_W  \\\n",
       "0  AMD Athlon 64 3500+  CPU   2007-02-20             65.0   45.0   \n",
       "\n",
       "   Die_Size_mm^2  Transistors_million  Freq_MHz  Foundry Vendor  FP16_GFLOPS  \\\n",
       "0           77.0                122.0    2200.0  Unknown    AMD          NaN   \n",
       "\n",
       "   FP32_GFLOPS  FP64_GFLOPS    DT_type    year  \n",
       "0          NaN          NaN 2007-02-20  2007.0  "
      ]
     },
     "execution_count": 80,
     "metadata": {},
     "output_type": "execute_result"
    }
   ],
   "source": [
    "# Plot the change in process size over time for CPUs, on an annual basis.\n",
    "df.head(1)"
   ]
  },
  {
   "cell_type": "code",
   "execution_count": 83,
   "metadata": {},
   "outputs": [
    {
     "data": {
      "text/plain": [
       "<AxesSubplot: xlabel='year'>"
      ]
     },
     "execution_count": 83,
     "metadata": {},
     "output_type": "execute_result"
    },
    {
     "data": {
      "image/png": "[encoded data removed]",
      "text/plain": [
       "<Figure size 640x480 with 1 Axes>"
      ]
     },
     "metadata": {},
     "output_type": "display_data"
    }
   ],
   "source": [
    "df[df.Type == 'CPU'].groupby('year').Process_Size_nm.sum().sort_index().plot()"
   ]
  },
  {
   "cell_type": "code",
   "execution_count": 90,
   "metadata": {},
   "outputs": [
    {
     "data": {
      "text/plain": [
       "<AxesSubplot: xlabel='DT_type'>"
      ]
     },
     "execution_count": 90,
     "metadata": {},
     "output_type": "execute_result"
    },
    {
     "data": {
      "image/png": "[encoded data removed]",
      "text/plain": [
       "<Figure size 640x480 with 1 Axes>"
      ]
     },
     "metadata": {},
     "output_type": "display_data"
    }
   ],
   "source": [
    "# Plot the change in frequency over time for GPUs on a 6-month basis.\n",
    "\n",
    "#df_GPU = df[df.Type == 'GPU']\n",
    "\n",
    "#I did something, it worked. Looks fine but I need help understanding.\n",
    "\n",
    "df_GPU.resample('6M', on='DT_type').Freq_MHz.sum().plot()"
   ]
  },
  {
   "cell_type": "code",
   "execution_count": null,
   "metadata": {},
   "outputs": [],
   "source": []
  }
 ],
 "metadata": {
  "kernelspec": {
   "display_name": "Python 3 (ipykernel)",
   "language": "python",
   "name": "python3"
  },
  "language_info": {
   "codemirror_mode": {
    "name": "ipython",
    "version": 3
   },
   "file_extension": ".py",
   "mimetype": "text/x-python",
   "name": "python",
   "nbconvert_exporter": "python",
   "pygments_lexer": "ipython3",
   "version": "3.11.0rc2"
  },
  "vscode": {
   "interpreter": {
    "hash": "4af5af0f04fcb380cec1c78a427d6ee46cb6215f4740c4f606bab0dcb6aa5c09"
   }
  }
 },
 "nbformat": 4,
 "nbformat_minor": 2
}
