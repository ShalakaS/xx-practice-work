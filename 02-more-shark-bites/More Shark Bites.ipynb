{
 "cells": [
  {
   "cell_type": "markdown",
   "metadata": {},
   "source": [
    "# More Shark Bite Analysis\n",
    "\n",
    "Data is from [Global Shark Attack File](https://www.sharkattackfile.net/). You can find documentation at [https://www.sharkattackfile.net/incidentlog.htm](https://www.sharkattackfile.net/incidentlog.htm)."
   ]
  },
  {
   "cell_type": "markdown",
   "metadata": {},
   "source": [
    "## Questions\n",
    "\n",
    "1. Read in `GSAF5.xls` and print the first 5 rows of the data, making sure you can see *every column* in the dataset.\n",
    "2. How many rows and columns are in the dataset?\n",
    "3. Are more shark attacks provoked or unprovoked?\n",
    "4. What is the most common activity when a shark attack occurs?\n",
    "5. What is the most common activity when a shark attack occurs in Australia?\n",
    "6. What is the most common activity when a shark attack occurs in the USA?\n",
    "7. What are the top 5 countries with the most shark attacks?\n",
    "8. What are the top 5 states with the most shark attacks in the USA?\n",
    "9. What are the most common days of the week for shark attacks?\n",
    "10. What are the most common months for shark attacks?\n",
    "11. Are shark attacks from 1900-1950 more or less likely to be fatal than those after 1950?\n",
    "12. Find 3 things that are bad or difficult to clean about this dataset. This will probably involve sorting, filtering, or grouping the data."
   ]
  },
  {
   "cell_type": "code",
   "execution_count": 1,
   "metadata": {},
   "outputs": [],
   "source": [
    "import requests\n",
    "import pandas as pd"
   ]
  },
  {
   "cell_type": "code",
   "execution_count": 3,
   "metadata": {},
   "outputs": [
    {
     "data": {
      "text/html": [
       "<div>\n",
       "<style scoped>\n",
       "    .dataframe tbody tr th:only-of-type {\n",
       "        vertical-align: middle;\n",
       "    }\n",
       "\n",
       "    .dataframe tbody tr th {\n",
       "        vertical-align: top;\n",
       "    }\n",
       "\n",
       "    .dataframe thead th {\n",
       "        text-align: right;\n",
       "    }\n",
       "</style>\n",
       "<table border=\"1\" class=\"dataframe\">\n",
       "  <thead>\n",
       "    <tr style=\"text-align: right;\">\n",
       "      <th></th>\n",
       "      <th>Case Number</th>\n",
       "      <th>Date</th>\n",
       "      <th>Year</th>\n",
       "      <th>Type</th>\n",
       "      <th>Country</th>\n",
       "      <th>Area</th>\n",
       "      <th>Location</th>\n",
       "      <th>Activity</th>\n",
       "      <th>Name</th>\n",
       "      <th>Sex</th>\n",
       "      <th>...</th>\n",
       "      <th>Species</th>\n",
       "      <th>Investigator or Source</th>\n",
       "      <th>pdf</th>\n",
       "      <th>href formula</th>\n",
       "      <th>href</th>\n",
       "      <th>Case Number.1</th>\n",
       "      <th>Case Number.2</th>\n",
       "      <th>original order</th>\n",
       "      <th>Unnamed: 22</th>\n",
       "      <th>Unnamed: 23</th>\n",
       "    </tr>\n",
       "  </thead>\n",
       "  <tbody>\n",
       "    <tr>\n",
       "      <th>0</th>\n",
       "      <td>2022.11.04</td>\n",
       "      <td>04-Nov-2022</td>\n",
       "      <td>2022.0</td>\n",
       "      <td>Unprovoked</td>\n",
       "      <td>USA</td>\n",
       "      <td>California</td>\n",
       "      <td>Del Mar Beach, San Diego County</td>\n",
       "      <td>Swimming</td>\n",
       "      <td>Lyn Jutronich</td>\n",
       "      <td>F</td>\n",
       "      <td>...</td>\n",
       "      <td>Juvenile white shark</td>\n",
       "      <td>R.Collier, GSAF</td>\n",
       "      <td>NaN</td>\n",
       "      <td>NaN</td>\n",
       "      <td>NaN</td>\n",
       "      <td>NaN</td>\n",
       "      <td>NaN</td>\n",
       "      <td>NaN</td>\n",
       "      <td>NaN</td>\n",
       "      <td>NaN</td>\n",
       "    </tr>\n",
       "    <tr>\n",
       "      <th>1</th>\n",
       "      <td>2022.11.03</td>\n",
       "      <td>03-Nov-2022</td>\n",
       "      <td>2022.0</td>\n",
       "      <td>Provoked</td>\n",
       "      <td>USA</td>\n",
       "      <td>Florida</td>\n",
       "      <td>Cape San Blas, Gulf County</td>\n",
       "      <td>Fishing</td>\n",
       "      <td>male</td>\n",
       "      <td>M</td>\n",
       "      <td>...</td>\n",
       "      <td>NaN</td>\n",
       "      <td>Miami Herald, 11/4/2022</td>\n",
       "      <td>NaN</td>\n",
       "      <td>NaN</td>\n",
       "      <td>NaN</td>\n",
       "      <td>NaN</td>\n",
       "      <td>NaN</td>\n",
       "      <td>NaN</td>\n",
       "      <td>NaN</td>\n",
       "      <td>NaN</td>\n",
       "    </tr>\n",
       "    <tr>\n",
       "      <th>2</th>\n",
       "      <td>2022.10.31</td>\n",
       "      <td>31-Oct-2022</td>\n",
       "      <td>2022.0</td>\n",
       "      <td>Unprovoked</td>\n",
       "      <td>USA</td>\n",
       "      <td>California</td>\n",
       "      <td>Otter Point, Pacific Grove</td>\n",
       "      <td>Surfing</td>\n",
       "      <td>Jim Affinito</td>\n",
       "      <td>M</td>\n",
       "      <td>...</td>\n",
       "      <td>NaN</td>\n",
       "      <td>R. Collier, GSAF</td>\n",
       "      <td>NaN</td>\n",
       "      <td>NaN</td>\n",
       "      <td>NaN</td>\n",
       "      <td>NaN</td>\n",
       "      <td>NaN</td>\n",
       "      <td>NaN</td>\n",
       "      <td>NaN</td>\n",
       "      <td>NaN</td>\n",
       "    </tr>\n",
       "    <tr>\n",
       "      <th>3</th>\n",
       "      <td>2022.10.28</td>\n",
       "      <td>28-Oct-2022</td>\n",
       "      <td>2022.0</td>\n",
       "      <td>Unprovoked</td>\n",
       "      <td>BAHAMAS</td>\n",
       "      <td>NaN</td>\n",
       "      <td>Cat Island</td>\n",
       "      <td>Diving</td>\n",
       "      <td>male</td>\n",
       "      <td>M</td>\n",
       "      <td>...</td>\n",
       "      <td>NaN</td>\n",
       "      <td>Bahamas Press, 10/29/2022</td>\n",
       "      <td>NaN</td>\n",
       "      <td>NaN</td>\n",
       "      <td>NaN</td>\n",
       "      <td>NaN</td>\n",
       "      <td>NaN</td>\n",
       "      <td>NaN</td>\n",
       "      <td>NaN</td>\n",
       "      <td>NaN</td>\n",
       "    </tr>\n",
       "    <tr>\n",
       "      <th>4</th>\n",
       "      <td>2022.10.27</td>\n",
       "      <td>27-Oct-2022</td>\n",
       "      <td>2022.0</td>\n",
       "      <td>Provoked</td>\n",
       "      <td>USA</td>\n",
       "      <td>Mississippi</td>\n",
       "      <td>Horn Island</td>\n",
       "      <td>Fishing</td>\n",
       "      <td>male</td>\n",
       "      <td>M</td>\n",
       "      <td>...</td>\n",
       "      <td>5'shark</td>\n",
       "      <td>WXXV, 10/27/2022</td>\n",
       "      <td>NaN</td>\n",
       "      <td>NaN</td>\n",
       "      <td>NaN</td>\n",
       "      <td>NaN</td>\n",
       "      <td>NaN</td>\n",
       "      <td>NaN</td>\n",
       "      <td>NaN</td>\n",
       "      <td>NaN</td>\n",
       "    </tr>\n",
       "    <tr>\n",
       "      <th>...</th>\n",
       "      <td>...</td>\n",
       "      <td>...</td>\n",
       "      <td>...</td>\n",
       "      <td>...</td>\n",
       "      <td>...</td>\n",
       "      <td>...</td>\n",
       "      <td>...</td>\n",
       "      <td>...</td>\n",
       "      <td>...</td>\n",
       "      <td>...</td>\n",
       "      <td>...</td>\n",
       "      <td>...</td>\n",
       "      <td>...</td>\n",
       "      <td>...</td>\n",
       "      <td>...</td>\n",
       "      <td>...</td>\n",
       "      <td>...</td>\n",
       "      <td>...</td>\n",
       "      <td>...</td>\n",
       "      <td>...</td>\n",
       "      <td>...</td>\n",
       "    </tr>\n",
       "    <tr>\n",
       "      <th>25844</th>\n",
       "      <td>NaN</td>\n",
       "      <td>NaN</td>\n",
       "      <td>NaN</td>\n",
       "      <td>NaN</td>\n",
       "      <td>NaN</td>\n",
       "      <td>NaN</td>\n",
       "      <td>NaN</td>\n",
       "      <td>NaN</td>\n",
       "      <td>NaN</td>\n",
       "      <td>NaN</td>\n",
       "      <td>...</td>\n",
       "      <td>NaN</td>\n",
       "      <td>NaN</td>\n",
       "      <td>NaN</td>\n",
       "      <td>NaN</td>\n",
       "      <td>NaN</td>\n",
       "      <td>NaN</td>\n",
       "      <td>NaN</td>\n",
       "      <td>NaN</td>\n",
       "      <td>NaN</td>\n",
       "      <td>NaN</td>\n",
       "    </tr>\n",
       "    <tr>\n",
       "      <th>25845</th>\n",
       "      <td>NaN</td>\n",
       "      <td>NaN</td>\n",
       "      <td>NaN</td>\n",
       "      <td>NaN</td>\n",
       "      <td>NaN</td>\n",
       "      <td>NaN</td>\n",
       "      <td>NaN</td>\n",
       "      <td>NaN</td>\n",
       "      <td>NaN</td>\n",
       "      <td>NaN</td>\n",
       "      <td>...</td>\n",
       "      <td>NaN</td>\n",
       "      <td>NaN</td>\n",
       "      <td>NaN</td>\n",
       "      <td>NaN</td>\n",
       "      <td>NaN</td>\n",
       "      <td>NaN</td>\n",
       "      <td>NaN</td>\n",
       "      <td>NaN</td>\n",
       "      <td>NaN</td>\n",
       "      <td>NaN</td>\n",
       "    </tr>\n",
       "    <tr>\n",
       "      <th>25846</th>\n",
       "      <td>NaN</td>\n",
       "      <td>NaN</td>\n",
       "      <td>NaN</td>\n",
       "      <td>NaN</td>\n",
       "      <td>NaN</td>\n",
       "      <td>NaN</td>\n",
       "      <td>NaN</td>\n",
       "      <td>NaN</td>\n",
       "      <td>NaN</td>\n",
       "      <td>NaN</td>\n",
       "      <td>...</td>\n",
       "      <td>NaN</td>\n",
       "      <td>NaN</td>\n",
       "      <td>NaN</td>\n",
       "      <td>NaN</td>\n",
       "      <td>NaN</td>\n",
       "      <td>NaN</td>\n",
       "      <td>NaN</td>\n",
       "      <td>NaN</td>\n",
       "      <td>NaN</td>\n",
       "      <td>NaN</td>\n",
       "    </tr>\n",
       "    <tr>\n",
       "      <th>25847</th>\n",
       "      <td>NaN</td>\n",
       "      <td>NaN</td>\n",
       "      <td>NaN</td>\n",
       "      <td>NaN</td>\n",
       "      <td>NaN</td>\n",
       "      <td>NaN</td>\n",
       "      <td>NaN</td>\n",
       "      <td>NaN</td>\n",
       "      <td>NaN</td>\n",
       "      <td>NaN</td>\n",
       "      <td>...</td>\n",
       "      <td>NaN</td>\n",
       "      <td>NaN</td>\n",
       "      <td>NaN</td>\n",
       "      <td>NaN</td>\n",
       "      <td>NaN</td>\n",
       "      <td>NaN</td>\n",
       "      <td>NaN</td>\n",
       "      <td>NaN</td>\n",
       "      <td>NaN</td>\n",
       "      <td>NaN</td>\n",
       "    </tr>\n",
       "    <tr>\n",
       "      <th>25848</th>\n",
       "      <td>xx</td>\n",
       "      <td>NaN</td>\n",
       "      <td>NaN</td>\n",
       "      <td>NaN</td>\n",
       "      <td>NaN</td>\n",
       "      <td>NaN</td>\n",
       "      <td>NaN</td>\n",
       "      <td>NaN</td>\n",
       "      <td>NaN</td>\n",
       "      <td>NaN</td>\n",
       "      <td>...</td>\n",
       "      <td>NaN</td>\n",
       "      <td>NaN</td>\n",
       "      <td>NaN</td>\n",
       "      <td>NaN</td>\n",
       "      <td>NaN</td>\n",
       "      <td>NaN</td>\n",
       "      <td>NaN</td>\n",
       "      <td>NaN</td>\n",
       "      <td>NaN</td>\n",
       "      <td>NaN</td>\n",
       "    </tr>\n",
       "  </tbody>\n",
       "</table>\n",
       "<p>25849 rows × 24 columns</p>\n",
       "</div>"
      ],
      "text/plain": [
       "      Case Number         Date    Year        Type  Country         Area  \\\n",
       "0      2022.11.04  04-Nov-2022  2022.0  Unprovoked      USA   California   \n",
       "1      2022.11.03  03-Nov-2022  2022.0    Provoked      USA      Florida   \n",
       "2      2022.10.31  31-Oct-2022  2022.0  Unprovoked      USA   California   \n",
       "3      2022.10.28  28-Oct-2022  2022.0  Unprovoked  BAHAMAS          NaN   \n",
       "4      2022.10.27  27-Oct-2022  2022.0    Provoked      USA  Mississippi   \n",
       "...           ...          ...     ...         ...      ...          ...   \n",
       "25844         NaN          NaN     NaN         NaN      NaN          NaN   \n",
       "25845         NaN          NaN     NaN         NaN      NaN          NaN   \n",
       "25846         NaN          NaN     NaN         NaN      NaN          NaN   \n",
       "25847         NaN          NaN     NaN         NaN      NaN          NaN   \n",
       "25848          xx          NaN     NaN         NaN      NaN          NaN   \n",
       "\n",
       "                              Location  Activity           Name  Sex  ...  \\\n",
       "0      Del Mar Beach, San Diego County  Swimming  Lyn Jutronich    F  ...   \n",
       "1           Cape San Blas, Gulf County   Fishing           male    M  ...   \n",
       "2           Otter Point, Pacific Grove   Surfing   Jim Affinito    M  ...   \n",
       "3                           Cat Island    Diving           male    M  ...   \n",
       "4                          Horn Island   Fishing           male    M  ...   \n",
       "...                                ...       ...            ...  ...  ...   \n",
       "25844                              NaN       NaN            NaN  NaN  ...   \n",
       "25845                              NaN       NaN            NaN  NaN  ...   \n",
       "25846                              NaN       NaN            NaN  NaN  ...   \n",
       "25847                              NaN       NaN            NaN  NaN  ...   \n",
       "25848                              NaN       NaN            NaN  NaN  ...   \n",
       "\n",
       "                   Species      Investigator or Source  pdf href formula href  \\\n",
       "0      Juvenile white shark            R.Collier, GSAF  NaN          NaN  NaN   \n",
       "1                       NaN    Miami Herald, 11/4/2022  NaN          NaN  NaN   \n",
       "2                       NaN           R. Collier, GSAF  NaN          NaN  NaN   \n",
       "3                       NaN  Bahamas Press, 10/29/2022  NaN          NaN  NaN   \n",
       "4                   5'shark           WXXV, 10/27/2022  NaN          NaN  NaN   \n",
       "...                     ...                        ...  ...          ...  ...   \n",
       "25844                   NaN                        NaN  NaN          NaN  NaN   \n",
       "25845                   NaN                        NaN  NaN          NaN  NaN   \n",
       "25846                   NaN                        NaN  NaN          NaN  NaN   \n",
       "25847                   NaN                        NaN  NaN          NaN  NaN   \n",
       "25848                   NaN                        NaN  NaN          NaN  NaN   \n",
       "\n",
       "      Case Number.1 Case Number.2 original order Unnamed: 22 Unnamed: 23  \n",
       "0               NaN           NaN            NaN         NaN         NaN  \n",
       "1               NaN           NaN            NaN         NaN         NaN  \n",
       "2               NaN           NaN            NaN         NaN         NaN  \n",
       "3               NaN           NaN            NaN         NaN         NaN  \n",
       "4               NaN           NaN            NaN         NaN         NaN  \n",
       "...             ...           ...            ...         ...         ...  \n",
       "25844           NaN           NaN            NaN         NaN         NaN  \n",
       "25845           NaN           NaN            NaN         NaN         NaN  \n",
       "25846           NaN           NaN            NaN         NaN         NaN  \n",
       "25847           NaN           NaN            NaN         NaN         NaN  \n",
       "25848           NaN           NaN            NaN         NaN         NaN  \n",
       "\n",
       "[25849 rows x 24 columns]"
      ]
     },
     "execution_count": 3,
     "metadata": {},
     "output_type": "execute_result"
    }
   ],
   "source": [
    "df = pd.read_excel('GSAF5.xls')\n",
    "df\n",
    "\n",
    "#There are 25849 rows and 24 columns in the table."
   ]
  },
  {
   "cell_type": "code",
   "execution_count": 4,
   "metadata": {},
   "outputs": [
    {
     "data": {
      "text/plain": [
       "Unprovoked             5003\n",
       "Provoked                625\n",
       "Invalid                 552\n",
       "Watercraft              350\n",
       "Sea Disaster            241\n",
       "Questionable             12\n",
       "Boat                      7\n",
       "?                         1\n",
       "Unconfirmed               1\n",
       "Unverified                1\n",
       "Under investigation       1\n",
       "Name: Type, dtype: int64"
      ]
     },
     "execution_count": 4,
     "metadata": {},
     "output_type": "execute_result"
    }
   ],
   "source": [
    "#Are more shark attacks provoked or unprovoked?\n",
    "df.Type.value_counts()\n",
    "#More shark attacks are unprovoked compared to provoked"
   ]
  },
  {
   "cell_type": "code",
   "execution_count": 7,
   "metadata": {},
   "outputs": [
    {
     "data": {
      "text/plain": [
       "Surfing                                                             1095\n",
       "Swimming                                                             943\n",
       "Fishing                                                              477\n",
       "Spearfishing                                                         372\n",
       "Wading                                                               167\n",
       "                                                                    ... \n",
       "Scuba diving & U/W photography                                         1\n",
       "Fishing from paddleski                                                 1\n",
       "Crabbing (spearing crabs)                                              1\n",
       "Being pulled to shore from wreck of 25-ton fishing vessel Alan S       1\n",
       "Wreck of  large double sailing canoe                                   1\n",
       "Name: Activity, Length: 1577, dtype: int64"
      ]
     },
     "execution_count": 7,
     "metadata": {},
     "output_type": "execute_result"
    }
   ],
   "source": [
    "# What is the most common activity when a shark attack occurs?\n",
    "df.Activity.value_counts()\n",
    "\n",
    "#Most common activity when shark attack occurs is surfing"
   ]
  },
  {
   "cell_type": "code",
   "execution_count": 15,
   "metadata": {},
   "outputs": [
    {
     "data": {
      "text/plain": [
       "Surfing                                      230\n",
       "Swimming                                     177\n",
       "Fishing                                      122\n",
       "Spearfishing                                  86\n",
       "Bathing                                       58\n",
       "                                            ... \n",
       "Adrift after wave swamped engine               1\n",
       "Spearfishing, Scuba diving                     1\n",
       "Surfing on \"chest board\" (boogie board?)       1\n",
       "Catching sharks under government contract      1\n",
       "Helmet diving                                  1\n",
       "Name: Activity, Length: 387, dtype: int64"
      ]
     },
     "execution_count": 15,
     "metadata": {},
     "output_type": "execute_result"
    }
   ],
   "source": [
    "# What is the most common activity when a shark attack occurs in Australia?\n",
    "df[df.Country == 'AUSTRALIA'].Activity.value_counts()\n",
    "\n",
    "#Surfing is the most common activity when a shark attack occurs in Australia"
   ]
  },
  {
   "cell_type": "code",
   "execution_count": 16,
   "metadata": {},
   "outputs": [
    {
     "data": {
      "text/plain": [
       "Surfing                                           642\n",
       "Swimming                                          343\n",
       "Fishing                                           134\n",
       "Wading                                            117\n",
       "Standing                                           69\n",
       "                                                 ... \n",
       "Adrift on refugee raft                              1\n",
       "Commercial diver (submerged or treading water)      1\n",
       "Surfing, sitting on board                           1\n",
       "Playing / jumping                                   1\n",
       "Free diving, collecting sand dollars                1\n",
       "Name: Activity, Length: 528, dtype: int64"
      ]
     },
     "execution_count": 16,
     "metadata": {},
     "output_type": "execute_result"
    }
   ],
   "source": [
    "# What is the most common activity when a shark attack occurs in the USA?\n",
    "\n",
    "df[df.Country == 'USA'].Activity.value_counts()\n",
    "\n",
    "#Surfing is the most common activity when a shark attack occurs in USA"
   ]
  },
  {
   "cell_type": "code",
   "execution_count": 17,
   "metadata": {},
   "outputs": [
    {
     "data": {
      "text/plain": [
       "USA                 2484\n",
       "AUSTRALIA           1455\n",
       "SOUTH AFRICA         593\n",
       "NEW ZEALAND          142\n",
       "PAPUA NEW GUINEA     136\n",
       "Name: Country, dtype: int64"
      ]
     },
     "execution_count": 17,
     "metadata": {},
     "output_type": "execute_result"
    }
   ],
   "source": [
    "# What are the top 5 countries with the most shark attacks?\n",
    "df.Country.value_counts().head()"
   ]
  },
  {
   "cell_type": "code",
   "execution_count": 19,
   "metadata": {},
   "outputs": [
    {
     "data": {
      "text/plain": [
       "Florida           1153\n",
       "Hawaii             330\n",
       "California         320\n",
       "South Carolina     168\n",
       "North Carolina     117\n",
       "Name: Area, dtype: int64"
      ]
     },
     "execution_count": 19,
     "metadata": {},
     "output_type": "execute_result"
    }
   ],
   "source": [
    "# What are the top 5 states with the most shark attacks in the USA?\n",
    "df[df.Country == 'USA'].Area.value_counts().head()"
   ]
  },
  {
   "cell_type": "code",
   "execution_count": 36,
   "metadata": {},
   "outputs": [
    {
     "data": {
      "text/plain": [
       "0      2022.11.04\n",
       "1      2022.11.03\n",
       "2      2022.10.31\n",
       "3      2022.10.28\n",
       "4      2022.10.27\n",
       "5      2022.10.25\n",
       "6      2022.10.23\n",
       "7      2022.10.10\n",
       "8      2022.10.08\n",
       "9      2022.10.07\n",
       "10     2022.10.06\n",
       "11    2022.010.02\n",
       "Name: Case_Number, dtype: object"
      ]
     },
     "execution_count": 36,
     "metadata": {},
     "output_type": "execute_result"
    }
   ],
   "source": [
    "# What are the most common days of the week for shark attacks?"
   ]
  },
  {
   "cell_type": "code",
   "execution_count": 116,
   "metadata": {},
   "outputs": [
    {
     "data": {
      "text/plain": [
       "Index(['Case_Number', 'Date', 'Year', 'Type', 'Country', 'Area', 'Location',\n",
       "       'Activity', 'Name', 'Sex', 'Age', 'Injury', 'Fatal_(Y/N)', 'Time',\n",
       "       'Species_', 'Investigator_or_Source', 'pdf', 'href_formula', 'href',\n",
       "       'Case_Number.1', 'Case_Number.2', 'original_order', 'Unnamed:_22',\n",
       "       'Unnamed:_23', 'Date_dt_type', 'Year_only'],\n",
       "      dtype='object')"
      ]
     },
     "execution_count": 116,
     "metadata": {},
     "output_type": "execute_result"
    }
   ],
   "source": [
    "#df.columns = df.columns.str.replace(\" \", \"_\")\n",
    "df.columns"
   ]
  },
  {
   "cell_type": "code",
   "execution_count": 74,
   "metadata": {},
   "outputs": [
    {
     "name": "stderr",
     "output_type": "stream",
     "text": [
      "/var/folders/6g/mf4qklbs63q07skjqqfkj5lw0000gn/T/ipykernel_14877/305301255.py:13: SettingWithCopyWarning: \n",
      "A value is trying to be set on a copy of a slice from a DataFrame\n",
      "\n",
      "See the caveats in the documentation: https://pandas.pydata.org/pandas-docs/stable/user_guide/indexing.html#returning-a-view-versus-a-copy\n",
      "  df.Date[1522] = df.Date[1522].replace('190Feb-2010', '19-Feb-2010')\n"
     ]
    }
   ],
   "source": [
    "#df.Case_Number[11] = df.Case_Number[11].replace('010', '10')\n",
    "#df.Case_Number[17] = df.Case_Number[17].replace('.c', '')\n",
    "#df.Date[58] = df.Date[58].replace('Reported ', '')\n",
    "#df.Date[58]\n",
    "#df.Date = df.Date.str.replace('Reported ', '')\n",
    "\n",
    "#df.Date[91] = df.Date[91].replace('`', '')\n",
    "#df.Date[96] = df.Date[96].replace('Nox', 'Nov')\n",
    "#df.Date[257] = df.Date[257].replace('202', '2020')\n",
    "#df.Date[487] = df.Date[487].replace('1018', '2018')\n",
    "#df.Date[1371] = df.Date[1371].replace('16-Aug--2011', '16-Aug-2011')\n",
    "#df.Date[1374] = df.Date[1374].replace('11-Aug--2011', '11-Aug-2011')\n",
    "\n",
    "#df.Date[1522] = df.Date[1522].replace('190Feb-2010', '19-Feb-2010')"
   ]
  },
  {
   "cell_type": "code",
   "execution_count": 108,
   "metadata": {},
   "outputs": [
    {
     "data": {
      "text/plain": [
       "7.0     740\n",
       "1.0     695\n",
       "8.0     647\n",
       "9.0     591\n",
       "6.0     538\n",
       "10.0    486\n",
       "4.0     482\n",
       "12.0    470\n",
       "3.0     440\n",
       "11.0    438\n",
       "5.0     427\n",
       "2.0     404\n",
       "Name: Date_dt_type, dtype: int64"
      ]
     },
     "execution_count": 108,
     "metadata": {},
     "output_type": "execute_result"
    }
   ],
   "source": [
    "# What are the most common months for shark attacks?\n",
    "\n",
    "#df['Date_dt_type'] = pd.to_datetime(df.Date, errors='ignore')\n",
    "#df.Date_dt_type = pd.to_datetime(df.Date_dt_type, errors='coerce')\n",
    "df.Date_dt_type.dt.month.value_counts()\n",
    "\n",
    "#ANSWER: July has the most number of shark attacks"
   ]
  },
  {
   "cell_type": "code",
   "execution_count": 132,
   "metadata": {},
   "outputs": [
    {
     "name": "stderr",
     "output_type": "stream",
     "text": [
      "/var/folders/6g/mf4qklbs63q07skjqqfkj5lw0000gn/T/ipykernel_14877/4002978995.py:4: FutureWarning: The default value of regex will change from True to False in a future version.\n",
      "  df_1900.columns = df_1900.columns.str.replace('Fatal_(Y/N)', 'fatal')\n"
     ]
    }
   ],
   "source": [
    "# Are shark attacks from 1900-1950 more or less likely to be fatal than those after 1950?\n",
    "#df['Year_only'] = df.Date_dt_type.dt.year\n",
    "#df_1900 = df[(df.Year_only > 1900) & (df.Year_only < 1950)]\n",
    "df_1900.columns = df_1900.columns.str.replace('Fatal_(Y/N)', 'fatal')"
   ]
  },
  {
   "cell_type": "code",
   "execution_count": 152,
   "metadata": {},
   "outputs": [
    {
     "data": {
      "text/plain": [
       "N          505\n",
       "Y          360\n",
       "UNKNOWN      7\n",
       "N            1\n",
       "Name: Fatal_(Y/N), dtype: int64"
      ]
     },
     "execution_count": 152,
     "metadata": {},
     "output_type": "execute_result"
    }
   ],
   "source": [
    "df_1900['Fatal_(Y/N)'].value_counts()"
   ]
  },
  {
   "cell_type": "code",
   "execution_count": 153,
   "metadata": {},
   "outputs": [
    {
     "data": {
      "text/plain": [
       "N          3767\n",
       "Y           636\n",
       "UNKNOWN      37\n",
       " N            7\n",
       "M             2\n",
       "F             2\n",
       "n             1\n",
       "Nq            1\n",
       "2017          1\n",
       "Y x 2         1\n",
       "Name: Fatal_(Y/N), dtype: int64"
      ]
     },
     "execution_count": 153,
     "metadata": {},
     "output_type": "execute_result"
    }
   ],
   "source": [
    "df_post_1950 = df[df.Year_only > 1950]\n",
    "df_post_1950['Fatal_(Y/N)'].value_counts()"
   ]
  },
  {
   "cell_type": "code",
   "execution_count": 154,
   "metadata": {},
   "outputs": [],
   "source": [
    "# The percent of fatal incidents was 41.2% between 1900-1950 and 14.2% after 1950.\n",
    "#However, the number of shark bite incidents that were fatal between 1900-1950 was 360 whereas the number of \n",
    "#total fatal incidents after 1950 and 2022 is 636.\n",
    "#This means that the recorded incidents increased after 1950."
   ]
  },
  {
   "cell_type": "code",
   "execution_count": 164,
   "metadata": {},
   "outputs": [
    {
     "data": {
      "text/plain": [
       "3.0"
      ]
     },
     "execution_count": 164,
     "metadata": {},
     "output_type": "execute_result"
    }
   ],
   "source": [
    "# Find 3 things that are bad or difficult to clean about this dataset. \n",
    "1.\n",
    "#It is difficult to standardize the date column because there are several entries with characters other than date\n",
    "#Same with case number column\n",
    "2.\n",
    "#There are a lot of rows that do not make sense in (Fatal_Y/N) column\n",
    "3.\n",
    "#There are 100s of rows in the end that have no entries at all and are making the dataframe longer for no reason\n",
    "\n",
    "#This will probably involve sorting, filtering, or grouping the data."
   ]
  },
  {
   "cell_type": "code",
   "execution_count": null,
   "metadata": {},
   "outputs": [],
   "source": []
  },
  {
   "cell_type": "markdown",
   "metadata": {},
   "source": []
  }
 ],
 "metadata": {
  "kernelspec": {
   "display_name": "Python 3 (ipykernel)",
   "language": "python",
   "name": "python3"
  },
  "language_info": {
   "codemirror_mode": {
    "name": "ipython",
    "version": 3
   },
   "file_extension": ".py",
   "mimetype": "text/x-python",
   "name": "python",
   "nbconvert_exporter": "python",
   "pygments_lexer": "ipython3",
   "version": "3.11.0rc2"
  },
  "vscode": {
   "interpreter": {
    "hash": "4af5af0f04fcb380cec1c78a427d6ee46cb6215f4740c4f606bab0dcb6aa5c09"
   }
  }
 },
 "nbformat": 4,
 "nbformat_minor": 2
}
